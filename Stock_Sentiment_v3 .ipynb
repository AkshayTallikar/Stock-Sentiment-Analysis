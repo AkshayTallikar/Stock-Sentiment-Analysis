{
  "nbformat": 4,
  "nbformat_minor": 0,
  "metadata": {
    "colab": {
      "name": "Stock Sentiment v2.ipynb",
      "provenance": [],
      "collapsed_sections": []
    },
    "kernelspec": {
      "name": "python3",
      "display_name": "Python 3"
    }
  },
  "cells": [
    {
      "cell_type": "code",
      "metadata": {
        "id": "dhEGZnTW0fRb",
        "colab_type": "code",
        "colab": {
          "base_uri": "https://localhost:8080/",
          "height": 51
        },
        "outputId": "356fbecc-f246-49ae-e903-47bb4d89b193"
      },
      "source": [
        "import pandas as pd\n",
        "from urllib.request import urlopen, Request\n",
        "from bs4 import BeautifulSoup\n",
        "import os\n",
        "import pandas as pd\n",
        "import matplotlib.pyplot as plt\n",
        "from sklearn.model_selection import train_test_split\n",
        "from sklearn.ensemble import RandomForestClassifier\n",
        "from sklearn.svm import SVC\n",
        "from sklearn.metrics import accuracy_score, classification_report, confusion_matrix\n",
        "from sklearn.pipeline import Pipeline\n",
        "from sklearn.feature_extraction.text import TfidfVectorizer\n",
        "from csv import writer\n",
        "from sklearn.feature_extraction.text import TfidfTransformer\n",
        "from textblob import TextBlob\n",
        "import re\n",
        "import nltk\n",
        "nltk.download('punkt')\n",
        "finwiz_url = 'https://finviz.com/quote.ashx?t='\n"
      ],
      "execution_count": 3,
      "outputs": [
        {
          "output_type": "stream",
          "text": [
            "[nltk_data] Downloading package punkt to /root/nltk_data...\n",
            "[nltk_data]   Package punkt is already up-to-date!\n"
          ],
          "name": "stdout"
        }
      ]
    },
    {
      "cell_type": "code",
      "metadata": {
        "id": "QvWOw04-fAYH",
        "colab_type": "code",
        "colab": {}
      },
      "source": [
        "def append_list_as_row(file_name2, list_of_elem):\n",
        "    # Open file in append mode\n",
        "    with open(file_name2, 'a+', newline='') as write_obj:\n",
        "        # Create a writer object from csv module\n",
        "        csv_writer = writer(write_obj)\n",
        "        # Add contents of list as last row in the csv file\n",
        "        csv_writer.writerow(list_of_elem)"
      ],
      "execution_count": 21,
      "outputs": []
    },
    {
      "cell_type": "code",
      "metadata": {
        "id": "2Imp3OVB0lEO",
        "colab_type": "code",
        "colab": {}
      },
      "source": [
        "news_tables = {}\n",
        "tickers = ['AMZN']\n",
        "\n",
        "for ticker in tickers:\n",
        "    url = finwiz_url + ticker\n",
        "    req = Request(url=url, headers={'user-agent': 'my-app/0.0.1'})\n",
        "    response = urlopen(req)\n",
        "    # Read the contents of the file into 'html'\n",
        "    html = BeautifulSoup(response)\n",
        "    # Find 'news-table' in the Soup and load it into 'news_table'\n",
        "    news_table = html.find(id='news-table')\n",
        "    # Add the table to our dictionary\n",
        "    news_tables[ticker] = news_table"
      ],
      "execution_count": 22,
      "outputs": []
    },
    {
      "cell_type": "code",
      "metadata": {
        "id": "mRmOFAel0pB_",
        "colab_type": "code",
        "colab": {}
      },
      "source": [
        "parsed_news = []\n",
        "\n",
        "# Iterate through the news\n",
        "for file_name, news_table in news_tables.items():\n",
        "    # Iterate through all tr tags in 'news_table'\n",
        "    for x in news_table.findAll('tr'):\n",
        "        # read the text from each tr tag into text\n",
        "        # get text from a only\n",
        "        text = x.a.get_text()\n",
        "        # splite text in the td tag into a list\n",
        "        date_scrape = x.td.text.split()\n",
        "        # if the length of 'date_scrape' is 1, load 'time' as the only element\n",
        "\n",
        "        if len(date_scrape) == 1:\n",
        "            time = date_scrape[0]\n",
        "\n",
        "        # else load 'date' as the 1st element and 'time' as the second\n",
        "        else:\n",
        "            date = date_scrape[0]\n",
        "            time = date_scrape[1]\n",
        "        # Extract the ticker from the file name, get the string up to the 1st '_'\n",
        "        ticker = file_name.split('_')[0]\n",
        "\n",
        "        # Append ticker, date, time and headline as a list to the 'parsed_news' list\n",
        "        parsed_news.append([ticker, date, time, text])\n"
      ],
      "execution_count": 23,
      "outputs": []
    },
    {
      "cell_type": "code",
      "metadata": {
        "id": "hTOAby9D1AJf",
        "colab_type": "code",
        "colab": {
          "base_uri": "https://localhost:8080/",
          "height": 52
        },
        "outputId": "152a3a68-eb36-4934-e085-e87267977873"
      },
      "source": [
        "\n",
        "\n",
        "columns = ['ticker', 'date', 'time', 'headline']\n",
        "\n",
        "# Convert the parsed_news list into a DataFrame called 'parsed_and_scored_news'\n",
        "parsed_and_scored_news = pd.DataFrame(parsed_news, columns=columns)\n",
        "\n",
        "# Web scraping taken from TowardsDataScience from Damien Boh\n",
        "'Damian Boh,May 6 (2020),Sentiment Analysis of Stocks from Financial News using Python,[Source code],https://towardsdatascience.com/sentiment-analysis-of-stocks-from-financial-news-using-python-82ebdcefb638'"
      ],
      "execution_count": 24,
      "outputs": [
        {
          "output_type": "execute_result",
          "data": {
            "application/vnd.google.colaboratory.intrinsic": {
              "type": "string"
            },
            "text/plain": [
              "'Damian Boh,May 6 (2020),Sentiment Analysis of Stocks from Financial News using Python,[Source code],https://towardsdatascience.com/sentiment-analysis-of-stocks-from-financial-news-using-python-82ebdcefb638'"
            ]
          },
          "metadata": {
            "tags": []
          },
          "execution_count": 24
        }
      ]
    },
    {
      "cell_type": "code",
      "metadata": {
        "id": "Eg59u-c6g8-U",
        "colab_type": "code",
        "colab": {}
      },
      "source": [
        "\n",
        "appendtext = []\n",
        "for j in range(len(parsed_and_scored_news['headline'])):\n",
        "  appendtext.append(parsed_and_scored_news['headline'][j])\n",
        "  "
      ],
      "execution_count": 41,
      "outputs": []
    },
    {
      "cell_type": "code",
      "metadata": {
        "id": "5ibyyB3ooZjX",
        "colab_type": "code",
        "colab": {}
      },
      "source": [
        "for i in range(len(appendtext)):\n",
        "  append_list_as_row('Newsfinal.csv',appendtext[i])"
      ],
      "execution_count": 66,
      "outputs": []
    },
    {
      "cell_type": "code",
      "metadata": {
        "id": "pPrx4dq3qXOu",
        "colab_type": "code",
        "colab": {}
      },
      "source": [
        "df8 = pd.read_csv('Newsfinal.csv')"
      ],
      "execution_count": 71,
      "outputs": []
    },
    {
      "cell_type": "code",
      "metadata": {
        "id": "vbhUx-QLrlTs",
        "colab_type": "code",
        "colab": {}
      },
      "source": [
        "df8['polarity'] = df8.apply(lambda x: TextBlob(x['sentence']).sentiment.polarity, axis=1)\n",
        "df8['subjectivity'] = df8.apply(lambda x: TextBlob(x['sentence']).sentiment.subjectivity, axis=1)"
      ],
      "execution_count": 72,
      "outputs": []
    },
    {
      "cell_type": "code",
      "metadata": {
        "id": "sirsXDNurq8_",
        "colab_type": "code",
        "colab": {}
      },
      "source": [
        "df8[\"Ticker\"] = \"AMZN\"\n",
        "df8.to_csv(\"Newsfinal.csv\", index=False)"
      ],
      "execution_count": 76,
      "outputs": []
    },
    {
      "cell_type": "code",
      "metadata": {
        "id": "CHO7usrmsmqv",
        "colab_type": "code",
        "colab": {
          "base_uri": "https://localhost:8080/",
          "height": 419
        },
        "outputId": "95d05f74-c907-4551-b400-443594f9d2d5"
      },
      "source": [
        "df8"
      ],
      "execution_count": 77,
      "outputs": [
        {
          "output_type": "execute_result",
          "data": {
            "text/html": [
              "<div>\n",
              "<style scoped>\n",
              "    .dataframe tbody tr th:only-of-type {\n",
              "        vertical-align: middle;\n",
              "    }\n",
              "\n",
              "    .dataframe tbody tr th {\n",
              "        vertical-align: top;\n",
              "    }\n",
              "\n",
              "    .dataframe thead th {\n",
              "        text-align: right;\n",
              "    }\n",
              "</style>\n",
              "<table border=\"1\" class=\"dataframe\">\n",
              "  <thead>\n",
              "    <tr style=\"text-align: right;\">\n",
              "      <th></th>\n",
              "      <th>sentence</th>\n",
              "      <th>polarity</th>\n",
              "      <th>subjectivity</th>\n",
              "      <th>Ticker</th>\n",
              "    </tr>\n",
              "  </thead>\n",
              "  <tbody>\n",
              "    <tr>\n",
              "      <th>0</th>\n",
              "      <td>Virus worries and FOMO drive options bets on s...</td>\n",
              "      <td>0.00</td>\n",
              "      <td>0.00</td>\n",
              "      <td>AMZN</td>\n",
              "    </tr>\n",
              "    <tr>\n",
              "      <th>1</th>\n",
              "      <td>4 Farm and Construction Machinery Companies Wi...</td>\n",
              "      <td>0.08</td>\n",
              "      <td>0.27</td>\n",
              "      <td>AMZN</td>\n",
              "    </tr>\n",
              "    <tr>\n",
              "      <th>2</th>\n",
              "      <td>US STOCKS-Wall Street surges led by energy and...</td>\n",
              "      <td>0.00</td>\n",
              "      <td>0.00</td>\n",
              "      <td>AMZN</td>\n",
              "    </tr>\n",
              "    <tr>\n",
              "      <th>3</th>\n",
              "      <td>Amazon (AMZN) Stock Sinks As Market Gains: Wha...</td>\n",
              "      <td>-0.10</td>\n",
              "      <td>0.00</td>\n",
              "      <td>AMZN</td>\n",
              "    </tr>\n",
              "    <tr>\n",
              "      <th>4</th>\n",
              "      <td>US STOCKS-Wall Street surges led by energy and...</td>\n",
              "      <td>0.00</td>\n",
              "      <td>0.00</td>\n",
              "      <td>AMZN</td>\n",
              "    </tr>\n",
              "    <tr>\n",
              "      <th>...</th>\n",
              "      <td>...</td>\n",
              "      <td>...</td>\n",
              "      <td>...</td>\n",
              "      <td>...</td>\n",
              "    </tr>\n",
              "    <tr>\n",
              "      <th>95</th>\n",
              "      <td>3 Top Entertainment Stocks to Buy Now</td>\n",
              "      <td>0.50</td>\n",
              "      <td>0.50</td>\n",
              "      <td>AMZN</td>\n",
              "    </tr>\n",
              "    <tr>\n",
              "      <th>96</th>\n",
              "      <td>The Week In Cannabis: Stocks In Green FDAs CB...</td>\n",
              "      <td>-0.20</td>\n",
              "      <td>0.30</td>\n",
              "      <td>AMZN</td>\n",
              "    </tr>\n",
              "    <tr>\n",
              "      <th>97</th>\n",
              "      <td>Better Buy: Shopify vs. MercadoLibre</td>\n",
              "      <td>0.50</td>\n",
              "      <td>0.50</td>\n",
              "      <td>AMZN</td>\n",
              "    </tr>\n",
              "    <tr>\n",
              "      <th>98</th>\n",
              "      <td>2 Stock Bubbles That Could Pop in the Next Ma...</td>\n",
              "      <td>0.00</td>\n",
              "      <td>0.00</td>\n",
              "      <td>AMZN</td>\n",
              "    </tr>\n",
              "    <tr>\n",
              "      <th>99</th>\n",
              "      <td>TikTok Gets an Amazon-Sized Scare</td>\n",
              "      <td>0.00</td>\n",
              "      <td>0.00</td>\n",
              "      <td>AMZN</td>\n",
              "    </tr>\n",
              "  </tbody>\n",
              "</table>\n",
              "<p>100 rows × 4 columns</p>\n",
              "</div>"
            ],
            "text/plain": [
              "                                             sentence  ...  Ticker\n",
              "0   Virus worries and FOMO drive options bets on s...  ...    AMZN\n",
              "1   4 Farm and Construction Machinery Companies Wi...  ...    AMZN\n",
              "2   US STOCKS-Wall Street surges led by energy and...  ...    AMZN\n",
              "3   Amazon (AMZN) Stock Sinks As Market Gains: Wha...  ...    AMZN\n",
              "4   US STOCKS-Wall Street surges led by energy and...  ...    AMZN\n",
              "..                                                ...  ...     ...\n",
              "95              3 Top Entertainment Stocks to Buy Now  ...    AMZN\n",
              "96   The Week In Cannabis: Stocks In Green FDAs CB...  ...    AMZN\n",
              "97               Better Buy: Shopify vs. MercadoLibre  ...    AMZN\n",
              "98   2 Stock Bubbles That Could Pop in the Next Ma...  ...    AMZN\n",
              "99                  TikTok Gets an Amazon-Sized Scare  ...    AMZN\n",
              "\n",
              "[100 rows x 4 columns]"
            ]
          },
          "metadata": {
            "tags": []
          },
          "execution_count": 77
        }
      ]
    },
    {
      "cell_type": "code",
      "metadata": {
        "id": "PjYOxMROjn_B",
        "colab_type": "code",
        "colab": {
          "base_uri": "https://localhost:8080/",
          "height": 419
        },
        "outputId": "fba3de2d-41b1-4a74-96a8-37c2a0559413"
      },
      "source": [
        "parsed_and_scored_news "
      ],
      "execution_count": 78,
      "outputs": [
        {
          "output_type": "execute_result",
          "data": {
            "text/html": [
              "<div>\n",
              "<style scoped>\n",
              "    .dataframe tbody tr th:only-of-type {\n",
              "        vertical-align: middle;\n",
              "    }\n",
              "\n",
              "    .dataframe tbody tr th {\n",
              "        vertical-align: top;\n",
              "    }\n",
              "\n",
              "    .dataframe thead th {\n",
              "        text-align: right;\n",
              "    }\n",
              "</style>\n",
              "<table border=\"1\" class=\"dataframe\">\n",
              "  <thead>\n",
              "    <tr style=\"text-align: right;\">\n",
              "      <th></th>\n",
              "      <th>ticker</th>\n",
              "      <th>date</th>\n",
              "      <th>time</th>\n",
              "      <th>headline</th>\n",
              "    </tr>\n",
              "  </thead>\n",
              "  <tbody>\n",
              "    <tr>\n",
              "      <th>0</th>\n",
              "      <td>AMZN</td>\n",
              "      <td>Jul-14-20</td>\n",
              "      <td>10:16PM</td>\n",
              "      <td>Virus worries and FOMO drive options bets on s...</td>\n",
              "    </tr>\n",
              "    <tr>\n",
              "      <th>1</th>\n",
              "      <td>AMZN</td>\n",
              "      <td>Jul-14-20</td>\n",
              "      <td>07:24PM</td>\n",
              "      <td>4 Farm and Construction Machinery Companies Wi...</td>\n",
              "    </tr>\n",
              "    <tr>\n",
              "      <th>2</th>\n",
              "      <td>AMZN</td>\n",
              "      <td>Jul-14-20</td>\n",
              "      <td>06:20PM</td>\n",
              "      <td>US STOCKS-Wall Street surges, led by energy an...</td>\n",
              "    </tr>\n",
              "    <tr>\n",
              "      <th>3</th>\n",
              "      <td>AMZN</td>\n",
              "      <td>Jul-14-20</td>\n",
              "      <td>05:45PM</td>\n",
              "      <td>Amazon (AMZN) Stock Sinks As Market Gains: Wha...</td>\n",
              "    </tr>\n",
              "    <tr>\n",
              "      <th>4</th>\n",
              "      <td>AMZN</td>\n",
              "      <td>Jul-14-20</td>\n",
              "      <td>04:52PM</td>\n",
              "      <td>US STOCKS-Wall Street surges, led by energy an...</td>\n",
              "    </tr>\n",
              "    <tr>\n",
              "      <th>...</th>\n",
              "      <td>...</td>\n",
              "      <td>...</td>\n",
              "      <td>...</td>\n",
              "      <td>...</td>\n",
              "    </tr>\n",
              "    <tr>\n",
              "      <th>95</th>\n",
              "      <td>AMZN</td>\n",
              "      <td>Jul-11-20</td>\n",
              "      <td>12:10PM</td>\n",
              "      <td>3 Top Entertainment Stocks to Buy Now</td>\n",
              "    </tr>\n",
              "    <tr>\n",
              "      <th>96</th>\n",
              "      <td>AMZN</td>\n",
              "      <td>Jul-11-20</td>\n",
              "      <td>12:00PM</td>\n",
              "      <td>The Week In Cannabis: Stocks In Green, FDA's C...</td>\n",
              "    </tr>\n",
              "    <tr>\n",
              "      <th>97</th>\n",
              "      <td>AMZN</td>\n",
              "      <td>Jul-11-20</td>\n",
              "      <td>10:30AM</td>\n",
              "      <td>Better Buy: Shopify vs. MercadoLibre</td>\n",
              "    </tr>\n",
              "    <tr>\n",
              "      <th>98</th>\n",
              "      <td>AMZN</td>\n",
              "      <td>Jul-11-20</td>\n",
              "      <td>10:11AM</td>\n",
              "      <td>2 Stock Bubbles That Could Pop in the Next Mar...</td>\n",
              "    </tr>\n",
              "    <tr>\n",
              "      <th>99</th>\n",
              "      <td>AMZN</td>\n",
              "      <td>Jul-11-20</td>\n",
              "      <td>09:27AM</td>\n",
              "      <td>TikTok Gets an Amazon-Sized Scare</td>\n",
              "    </tr>\n",
              "  </tbody>\n",
              "</table>\n",
              "<p>100 rows × 4 columns</p>\n",
              "</div>"
            ],
            "text/plain": [
              "   ticker  ...                                           headline\n",
              "0    AMZN  ...  Virus worries and FOMO drive options bets on s...\n",
              "1    AMZN  ...  4 Farm and Construction Machinery Companies Wi...\n",
              "2    AMZN  ...  US STOCKS-Wall Street surges, led by energy an...\n",
              "3    AMZN  ...  Amazon (AMZN) Stock Sinks As Market Gains: Wha...\n",
              "4    AMZN  ...  US STOCKS-Wall Street surges, led by energy an...\n",
              "..    ...  ...                                                ...\n",
              "95   AMZN  ...              3 Top Entertainment Stocks to Buy Now\n",
              "96   AMZN  ...  The Week In Cannabis: Stocks In Green, FDA's C...\n",
              "97   AMZN  ...               Better Buy: Shopify vs. MercadoLibre\n",
              "98   AMZN  ...  2 Stock Bubbles That Could Pop in the Next Mar...\n",
              "99   AMZN  ...                  TikTok Gets an Amazon-Sized Scare\n",
              "\n",
              "[100 rows x 4 columns]"
            ]
          },
          "metadata": {
            "tags": []
          },
          "execution_count": 78
        }
      ]
    },
    {
      "cell_type": "code",
      "metadata": {
        "id": "X2oIJejn1Bkc",
        "colab_type": "code",
        "colab": {}
      },
      "source": [
        "parsed_and_scored_news\n",
        "\n",
        "\n",
        "data_test = parsed_and_scored_news[parsed_and_scored_news['date'] > 'Jul-13-20'].copy()\n",
        "\n",
        "\n",
        "headlines = data_test['headline']"
      ],
      "execution_count": 48,
      "outputs": []
    },
    {
      "cell_type": "code",
      "metadata": {
        "id": "zFCUAhpO1LLe",
        "colab_type": "code",
        "colab": {}
      },
      "source": [
        "df = pd.read_csv('stock_datafinal.csv')\n"
      ],
      "execution_count": 50,
      "outputs": []
    },
    {
      "cell_type": "code",
      "metadata": {
        "id": "ZAxVn5191aZq",
        "colab_type": "code",
        "colab": {
          "base_uri": "https://localhost:8080/",
          "height": 34
        },
        "outputId": "cfd2430b-017b-4fa6-ff25-ee94ad1beee2"
      },
      "source": [
        "positive = df[df['Sentiment']==1]\n",
        "Negative = df[df['Sentiment']==0]\n",
        "positive.shape"
      ],
      "execution_count": 51,
      "outputs": [
        {
          "output_type": "execute_result",
          "data": {
            "text/plain": [
              "(3341, 2)"
            ]
          },
          "metadata": {
            "tags": []
          },
          "execution_count": 51
        }
      ]
    },
    {
      "cell_type": "code",
      "metadata": {
        "id": "c0nRinpJ2AfO",
        "colab_type": "code",
        "colab": {
          "base_uri": "https://localhost:8080/",
          "height": 34
        },
        "outputId": "1e0ac349-53e0-4e35-ce45-40b0cb7be018"
      },
      "source": [
        "Negative.shape"
      ],
      "execution_count": 52,
      "outputs": [
        {
          "output_type": "execute_result",
          "data": {
            "text/plain": [
              "(1634, 2)"
            ]
          },
          "metadata": {
            "tags": []
          },
          "execution_count": 52
        }
      ]
    },
    {
      "cell_type": "code",
      "metadata": {
        "id": "URFF5K0T3SDu",
        "colab_type": "code",
        "colab": {}
      },
      "source": [
        "positive = positive.sample(Negative.shape[0])"
      ],
      "execution_count": 53,
      "outputs": []
    },
    {
      "cell_type": "code",
      "metadata": {
        "id": "zOWtQ_PU2djy",
        "colab_type": "code",
        "colab": {
          "base_uri": "https://localhost:8080/",
          "height": 34
        },
        "outputId": "c6eb276e-addd-4186-b956-2d3c1ed035ba"
      },
      "source": [
        "positive.shape"
      ],
      "execution_count": 54,
      "outputs": [
        {
          "output_type": "execute_result",
          "data": {
            "text/plain": [
              "(1634, 2)"
            ]
          },
          "metadata": {
            "tags": []
          },
          "execution_count": 54
        }
      ]
    },
    {
      "cell_type": "code",
      "metadata": {
        "id": "wIVNEXm03U6E",
        "colab_type": "code",
        "colab": {
          "base_uri": "https://localhost:8080/",
          "height": 204
        },
        "outputId": "c9972d2b-8b92-4276-b211-85313af70a2e"
      },
      "source": [
        "data = positive.append(Negative,ignore_index=True)\n",
        "data.tail()"
      ],
      "execution_count": 55,
      "outputs": [
        {
          "output_type": "execute_result",
          "data": {
            "text/html": [
              "<div>\n",
              "<style scoped>\n",
              "    .dataframe tbody tr th:only-of-type {\n",
              "        vertical-align: middle;\n",
              "    }\n",
              "\n",
              "    .dataframe tbody tr th {\n",
              "        vertical-align: top;\n",
              "    }\n",
              "\n",
              "    .dataframe thead th {\n",
              "        text-align: right;\n",
              "    }\n",
              "</style>\n",
              "<table border=\"1\" class=\"dataframe\">\n",
              "  <thead>\n",
              "    <tr style=\"text-align: right;\">\n",
              "      <th></th>\n",
              "      <th>Text</th>\n",
              "      <th>Sentiment</th>\n",
              "    </tr>\n",
              "  </thead>\n",
              "  <tbody>\n",
              "    <tr>\n",
              "      <th>3263</th>\n",
              "      <td>JOSB 50% off on almost everything. Funny, they...</td>\n",
              "      <td>0</td>\n",
              "    </tr>\n",
              "    <tr>\n",
              "      <th>3264</th>\n",
              "      <td>DE considering buying some put options...</td>\n",
              "      <td>0</td>\n",
              "    </tr>\n",
              "    <tr>\n",
              "      <th>3265</th>\n",
              "      <td>Happy Easter! SHOT Setups: CS ISG CF AN NKD OW...</td>\n",
              "      <td>0</td>\n",
              "    </tr>\n",
              "    <tr>\n",
              "      <th>3266</th>\n",
              "      <td>CAT may try to jump on the boat with some Put ...</td>\n",
              "      <td>0</td>\n",
              "    </tr>\n",
              "    <tr>\n",
              "      <th>3267</th>\n",
              "      <td>If AAP goes to over 451, I will go short. Stil...</td>\n",
              "      <td>0</td>\n",
              "    </tr>\n",
              "  </tbody>\n",
              "</table>\n",
              "</div>"
            ],
            "text/plain": [
              "                                                   Text  Sentiment\n",
              "3263  JOSB 50% off on almost everything. Funny, they...          0\n",
              "3264          DE considering buying some put options...          0\n",
              "3265  Happy Easter! SHOT Setups: CS ISG CF AN NKD OW...          0\n",
              "3266  CAT may try to jump on the boat with some Put ...          0\n",
              "3267  If AAP goes to over 451, I will go short. Stil...          0"
            ]
          },
          "metadata": {
            "tags": []
          },
          "execution_count": 55
        }
      ]
    },
    {
      "cell_type": "code",
      "metadata": {
        "id": "0VFpxhvQ30w0",
        "colab_type": "code",
        "colab": {}
      },
      "source": [
        "X_train, X_test, y_train, y_test = train_test_split(data['Text'], data['Sentiment'], test_size=.1, random_state=0,\n",
        "                                                    shuffle=True,stratify=data['Sentiment'] )"
      ],
      "execution_count": 56,
      "outputs": []
    },
    {
      "cell_type": "code",
      "metadata": {
        "id": "9tzpqHHb4Wvp",
        "colab_type": "code",
        "colab": {}
      },
      "source": [
        "clf = Pipeline([('tfidf', TfidfVectorizer()), ('clf', SVC(C=10000, gamma='auto'))])"
      ],
      "execution_count": 57,
      "outputs": []
    },
    {
      "cell_type": "code",
      "metadata": {
        "id": "JUhCTmO44b6n",
        "colab_type": "code",
        "colab": {
          "base_uri": "https://localhost:8080/",
          "height": 391
        },
        "outputId": "3dee2360-7cda-48dc-b9df-26939f5c0358"
      },
      "source": [
        "clf.fit(X_train,y_train)"
      ],
      "execution_count": 58,
      "outputs": [
        {
          "output_type": "execute_result",
          "data": {
            "text/plain": [
              "Pipeline(memory=None,\n",
              "         steps=[('tfidf',\n",
              "                 TfidfVectorizer(analyzer='word', binary=False,\n",
              "                                 decode_error='strict',\n",
              "                                 dtype=<class 'numpy.float64'>,\n",
              "                                 encoding='utf-8', input='content',\n",
              "                                 lowercase=True, max_df=1.0, max_features=None,\n",
              "                                 min_df=1, ngram_range=(1, 1), norm='l2',\n",
              "                                 preprocessor=None, smooth_idf=True,\n",
              "                                 stop_words=None, strip_accents=None,\n",
              "                                 sublinear_tf=False,\n",
              "                                 token_pattern='(?u)\\\\b\\\\w\\\\w+\\\\b',\n",
              "                                 tokenizer=None, use_idf=True,\n",
              "                                 vocabulary=None)),\n",
              "                ('clf',\n",
              "                 SVC(C=10000, break_ties=False, cache_size=200,\n",
              "                     class_weight=None, coef0=0.0,\n",
              "                     decision_function_shape='ovr', degree=3, gamma='auto',\n",
              "                     kernel='rbf', max_iter=-1, probability=False,\n",
              "                     random_state=None, shrinking=True, tol=0.001,\n",
              "                     verbose=False))],\n",
              "         verbose=False)"
            ]
          },
          "metadata": {
            "tags": []
          },
          "execution_count": 58
        }
      ]
    },
    {
      "cell_type": "code",
      "metadata": {
        "id": "Zc4jwpvn4kz7",
        "colab_type": "code",
        "colab": {}
      },
      "source": [
        "y_pred = clf.predict(X_test)\n"
      ],
      "execution_count": 59,
      "outputs": []
    },
    {
      "cell_type": "code",
      "metadata": {
        "id": "BpkkRQuM5CMB",
        "colab_type": "code",
        "colab": {
          "base_uri": "https://localhost:8080/",
          "height": 51
        },
        "outputId": "f69a5e33-3906-45cc-ffae-6fefaae626ab"
      },
      "source": [
        "confusion_matrix(y_test, y_pred)\n"
      ],
      "execution_count": 60,
      "outputs": [
        {
          "output_type": "execute_result",
          "data": {
            "text/plain": [
              "array([[123,  41],\n",
              "       [ 39, 124]])"
            ]
          },
          "metadata": {
            "tags": []
          },
          "execution_count": 60
        }
      ]
    },
    {
      "cell_type": "code",
      "metadata": {
        "id": "yYfRA94o5E7z",
        "colab_type": "code",
        "colab": {
          "base_uri": "https://localhost:8080/",
          "height": 34
        },
        "outputId": "e5137100-1bae-433b-c468-d24bc183577c"
      },
      "source": [
        "accuracy_score(y_test, y_pred)"
      ],
      "execution_count": 61,
      "outputs": [
        {
          "output_type": "execute_result",
          "data": {
            "text/plain": [
              "0.7553516819571865"
            ]
          },
          "metadata": {
            "tags": []
          },
          "execution_count": 61
        }
      ]
    },
    {
      "cell_type": "code",
      "metadata": {
        "id": "9eblv4cUqWIr",
        "colab_type": "code",
        "colab": {}
      },
      "source": [
        "pos = []\n",
        "neg = []\n",
        "error = []\n",
        "ticker2 = []\n",
        "realticker =[]"
      ],
      "execution_count": 62,
      "outputs": []
    },
    {
      "cell_type": "code",
      "metadata": {
        "id": "3c2uuzM6yIWT",
        "colab_type": "code",
        "colab": {
          "base_uri": "https://localhost:8080/",
          "height": 34
        },
        "outputId": "991a2027-7496-4054-f8d3-638248c33efd"
      },
      "source": [
        "data_test.shape[0]"
      ],
      "execution_count": 63,
      "outputs": [
        {
          "output_type": "execute_result",
          "data": {
            "text/plain": [
              "48"
            ]
          },
          "metadata": {
            "tags": []
          },
          "execution_count": 63
        }
      ]
    },
    {
      "cell_type": "code",
      "metadata": {
        "id": "3c4-FIKT7hpk",
        "colab_type": "code",
        "colab": {}
      },
      "source": [
        "\n",
        "for i in range(0,data_test.shape[0]):\n",
        "  try:\n",
        "      if clf.predict([df8['sentence'][i]])==1:\n",
        "        ticker2=[data_test['ticker'][i]]\n",
        "        realticker.append(ticker2)\n",
        "        pos.append('1')\n",
        "      else: \n",
        "        neg.append('0')\n",
        "  except KeyError:\n",
        "    error.append('error')\n",
        " \n",
        "  "
      ],
      "execution_count": 80,
      "outputs": []
    },
    {
      "cell_type": "code",
      "metadata": {
        "id": "wDRLTkYnuIJZ",
        "colab_type": "code",
        "colab": {
          "base_uri": "https://localhost:8080/",
          "height": 34
        },
        "outputId": "0209d440-2cec-4600-9ed8-d16375bd8713"
      },
      "source": [
        "len(pos)"
      ],
      "execution_count": 81,
      "outputs": [
        {
          "output_type": "execute_result",
          "data": {
            "text/plain": [
              "30"
            ]
          },
          "metadata": {
            "tags": []
          },
          "execution_count": 81
        }
      ]
    },
    {
      "cell_type": "code",
      "metadata": {
        "id": "Oei6yXj0uV2p",
        "colab_type": "code",
        "colab": {
          "base_uri": "https://localhost:8080/",
          "height": 34
        },
        "outputId": "0535c352-6daf-4a36-8051-62db2ab1fa75"
      },
      "source": [
        "len(neg)"
      ],
      "execution_count": 82,
      "outputs": [
        {
          "output_type": "execute_result",
          "data": {
            "text/plain": [
              "18"
            ]
          },
          "metadata": {
            "tags": []
          },
          "execution_count": 82
        }
      ]
    },
    {
      "cell_type": "code",
      "metadata": {
        "id": "LA4NtkHEx_D7",
        "colab_type": "code",
        "colab": {
          "base_uri": "https://localhost:8080/",
          "height": 34
        },
        "outputId": "171ee729-9e19-400d-fce2-bba0a012f83e"
      },
      "source": [
        "len(error)"
      ],
      "execution_count": 83,
      "outputs": [
        {
          "output_type": "execute_result",
          "data": {
            "text/plain": [
              "0"
            ]
          },
          "metadata": {
            "tags": []
          },
          "execution_count": 83
        }
      ]
    },
    {
      "cell_type": "code",
      "metadata": {
        "id": "_H81YwUy0_AA",
        "colab_type": "code",
        "colab": {
          "base_uri": "https://localhost:8080/",
          "height": 527
        },
        "outputId": "d10cd529-f5bc-4bc2-9a86-7f34ea1e0423"
      },
      "source": [
        "realticker"
      ],
      "execution_count": 84,
      "outputs": [
        {
          "output_type": "execute_result",
          "data": {
            "text/plain": [
              "[['AMZN'],\n",
              " ['AMZN'],\n",
              " ['AMZN'],\n",
              " ['AMZN'],\n",
              " ['AMZN'],\n",
              " ['AMZN'],\n",
              " ['AMZN'],\n",
              " ['AMZN'],\n",
              " ['AMZN'],\n",
              " ['AMZN'],\n",
              " ['AMZN'],\n",
              " ['AMZN'],\n",
              " ['AMZN'],\n",
              " ['AMZN'],\n",
              " ['AMZN'],\n",
              " ['AMZN'],\n",
              " ['AMZN'],\n",
              " ['AMZN'],\n",
              " ['AMZN'],\n",
              " ['AMZN'],\n",
              " ['AMZN'],\n",
              " ['AMZN'],\n",
              " ['AMZN'],\n",
              " ['AMZN'],\n",
              " ['AMZN'],\n",
              " ['AMZN'],\n",
              " ['AMZN'],\n",
              " ['AMZN'],\n",
              " ['AMZN'],\n",
              " ['AMZN']]"
            ]
          },
          "metadata": {
            "tags": []
          },
          "execution_count": 84
        }
      ]
    }
  ]
}
