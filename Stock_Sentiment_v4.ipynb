{
  "nbformat": 4,
  "nbformat_minor": 0,
  "metadata": {
    "colab": {
      "name": "Stock Sentiment v4.ipynb",
      "provenance": [],
      "collapsed_sections": [],
      "authorship_tag": "ABX9TyORIYtgTxDYX+xHU8bpEc45",
      "include_colab_link": true
    },
    "kernelspec": {
      "name": "python3",
      "display_name": "Python 3"
    },
    "accelerator": "TPU"
  },
  "cells": [
    {
      "cell_type": "markdown",
      "metadata": {
        "id": "view-in-github",
        "colab_type": "text"
      },
      "source": [
        "<a href=\"https://colab.research.google.com/github/AkshayTallikar/Stock-Sentiment-Analysis/blob/master/Stock_Sentiment_v4.ipynb\" target=\"_parent\"><img src=\"https://colab.research.google.com/assets/colab-badge.svg\" alt=\"Open In Colab\"/></a>"
      ]
    },
    {
      "cell_type": "code",
      "metadata": {
        "id": "dhEGZnTW0fRb",
        "outputId": "bea71ce2-442a-4a71-ef21-e75cac0c4fdd",
        "colab": {
          "base_uri": "https://localhost:8080/",
          "height": 51
        }
      },
      "source": [
        "import pandas as pd\n",
        "from urllib.request import urlopen, Request\n",
        "from bs4 import BeautifulSoup\n",
        "import os\n",
        "import pandas as pd\n",
        "import matplotlib.pyplot as plt\n",
        "from sklearn.model_selection import train_test_split\n",
        "from sklearn.ensemble import RandomForestClassifier\n",
        "from sklearn.svm import SVC\n",
        "from sklearn.metrics import accuracy_score, classification_report, confusion_matrix\n",
        "from sklearn.pipeline import Pipeline\n",
        "from sklearn.feature_extraction.text import TfidfVectorizer\n",
        "from csv import writer\n",
        "from sklearn.feature_extraction.text import TfidfTransformer\n",
        "from textblob import TextBlob\n",
        "import re\n",
        "import nltk\n",
        "nltk.download('punkt')\n",
        "finwiz_url = 'https://finviz.com/quote.ashx?t='\n"
      ],
      "execution_count": null,
      "outputs": [
        {
          "output_type": "stream",
          "text": [
            "[nltk_data] Downloading package punkt to /root/nltk_data...\n",
            "[nltk_data]   Unzipping tokenizers/punkt.zip.\n"
          ],
          "name": "stdout"
        }
      ]
    },
    {
      "cell_type": "code",
      "metadata": {
        "id": "QvWOw04-fAYH"
      },
      "source": [
        "def append_list_as_row(file_name2, list_of_elem):\n",
        "    # Open file in append mode\n",
        "    with open(file_name2, 'a+', newline='') as write_obj:\n",
        "        # Create a writer object from csv module\n",
        "        csv_writer = writer(write_obj)\n",
        "        # Add contents of list as last row in the csv file\n",
        "        csv_writer.writerow(list_of_elem)"
      ],
      "execution_count": null,
      "outputs": []
    },
    {
      "cell_type": "code",
      "metadata": {
        "id": "2Imp3OVB0lEO"
      },
      "source": [
        "news_tables = {}\n",
        "tickers = ['AMZN','TWTR','AZN','FB','TSLA','GOOG','GENE']\n",
        "\n",
        "for ticker in tickers:\n",
        "    url = finwiz_url + ticker\n",
        "    req = Request(url=url, headers={'user-agent': 'my-app/0.0.1'})\n",
        "    response = urlopen(req)\n",
        "    # Read the contents of the file into 'html'\n",
        "    html = BeautifulSoup(response)\n",
        "    # Find 'news-table' in the Soup and load it into 'news_table'\n",
        "    news_table = html.find(id='news-table')\n",
        "    # Add the table to our dictionary\n",
        "    news_tables[ticker] = news_table"
      ],
      "execution_count": null,
      "outputs": []
    },
    {
      "cell_type": "code",
      "metadata": {
        "id": "mRmOFAel0pB_"
      },
      "source": [
        "parsed_news = []\n",
        "\n",
        "# Iterate through the news\n",
        "for file_name, news_table in news_tables.items():\n",
        "    # Iterate through all tr tags in 'news_table'\n",
        "    for x in news_table.findAll('tr'):\n",
        "        # read the text from each tr tag into text\n",
        "        # get text from a only\n",
        "        text = x.a.get_text()\n",
        "        # splite text in the td tag into a list\n",
        "        date_scrape = x.td.text.split()\n",
        "        # if the length of 'date_scrape' is 1, load 'time' as the only element\n",
        "\n",
        "        if len(date_scrape) == 1:\n",
        "            time = date_scrape[0]\n",
        "\n",
        "        # else load 'date' as the 1st element and 'time' as the second\n",
        "        else:\n",
        "            date = date_scrape[0]\n",
        "            time = date_scrape[1]\n",
        "        # Extract the ticker from the file name, get the string up to the 1st '_'\n",
        "        ticker = file_name.split('_')[0]\n",
        "\n",
        "        # Append ticker, date, time and headline as a list to the 'parsed_news' list\n",
        "        parsed_news.append([ticker, date, time, text])\n"
      ],
      "execution_count": null,
      "outputs": []
    },
    {
      "cell_type": "code",
      "metadata": {
        "id": "hTOAby9D1AJf"
      },
      "source": [
        "\n",
        "\n",
        "columns = ['ticker', 'date', 'time', 'headline']\n",
        "\n",
        "# Convert the parsed_news list into a DataFrame called 'parsed_and_scored_news'\n",
        "parsed_and_scored_news = pd.DataFrame(parsed_news, columns=columns)\n",
        "\n"
      ],
      "execution_count": null,
      "outputs": []
    },
    {
      "cell_type": "code",
      "metadata": {
        "id": "Eg59u-c6g8-U"
      },
      "source": [
        "Today_news = parsed_and_scored_news[parsed_and_scored_news['date'] > 'Jul-14-20'].copy()\n",
        "appendtext = []\n",
        "for j in range(len(Today_news)):\n",
        "  appendtext.append(parsed_and_scored_news['headline'][j])\n",
        "  "
      ],
      "execution_count": null,
      "outputs": []
    },
    {
      "cell_type": "code",
      "metadata": {
        "id": "66U945Sm8BxS"
      },
      "source": [
        "filename = \"Newstoday.csv\"\n",
        "# opening the file with w+ mode truncates the file\n",
        "f = open(filename, \"w+\")\n",
        "f.close()"
      ],
      "execution_count": null,
      "outputs": []
    },
    {
      "cell_type": "code",
      "metadata": {
        "id": "5ibyyB3ooZjX"
      },
      "source": [
        "\n",
        "for i in range(len(appendtext)):\n",
        "  append_list_as_row('Newstoday.csv',appendtext[i])"
      ],
      "execution_count": null,
      "outputs": []
    },
    {
      "cell_type": "code",
      "metadata": {
        "id": "GYx1Y5sOXSDZ"
      },
      "source": [
        "filename = \"Newsfinal.csv\"\n",
        "# opening the file with w+ mode truncates the file\n",
        "f = open(filename, \"w+\")\n",
        "f.close()"
      ],
      "execution_count": null,
      "outputs": []
    },
    {
      "cell_type": "code",
      "metadata": {
        "id": "ubRZXXpa8XSj"
      },
      "source": [
        "\n",
        "with open(\"Newstoday.csv\") as infile, open(\"Newsfinal.csv\", \"w\") as outfile:\n",
        "    for line in infile:\n",
        "        outfile.write(line.replace(\",\", \"\"))\n"
      ],
      "execution_count": null,
      "outputs": []
    },
    {
      "cell_type": "code",
      "metadata": {
        "id": "q6j0NBb0bGjB"
      },
      "source": [
        "filename = \"Newstoday(1).csv\"\n",
        "# opening the file with w+ mode truncates the file\n",
        "f = open(filename, \"w+\")\n",
        "f.close()"
      ],
      "execution_count": null,
      "outputs": []
    },
    {
      "cell_type": "code",
      "metadata": {
        "id": "GjU2Ic6rb8wB"
      },
      "source": [
        "append_list_as_row('Newstoday(1).csv','sentence')"
      ],
      "execution_count": null,
      "outputs": []
    },
    {
      "cell_type": "code",
      "metadata": {
        "id": "KzYx-_uha4N8"
      },
      "source": [
        "with open(\"Newsfinal.csv\") as infile, open(\"Newstoday(1).csv\", \"w\") as outfile:\n",
        "    for line in infile:\n",
        "        outfile.write(line.replace('\"', \"\"))\n"
      ],
      "execution_count": null,
      "outputs": []
    },
    {
      "cell_type": "code",
      "metadata": {
        "id": "pPrx4dq3qXOu"
      },
      "source": [
        "df8 = pd.read_csv('Newstoday(1).csv')"
      ],
      "execution_count": null,
      "outputs": []
    },
    {
      "cell_type": "code",
      "metadata": {
        "id": "a-UjgkfhbtvM",
        "outputId": "5f2fc443-c0c5-4118-fabb-24820b4ac678",
        "colab": {
          "base_uri": "https://localhost:8080/",
          "height": 419
        }
      },
      "source": [
        "df8"
      ],
      "execution_count": null,
      "outputs": [
        {
          "output_type": "execute_result",
          "data": {
            "text/html": [
              "<div>\n",
              "<style scoped>\n",
              "    .dataframe tbody tr th:only-of-type {\n",
              "        vertical-align: middle;\n",
              "    }\n",
              "\n",
              "    .dataframe tbody tr th {\n",
              "        vertical-align: top;\n",
              "    }\n",
              "\n",
              "    .dataframe thead th {\n",
              "        text-align: right;\n",
              "    }\n",
              "</style>\n",
              "<table border=\"1\" class=\"dataframe\">\n",
              "  <thead>\n",
              "    <tr style=\"text-align: right;\">\n",
              "      <th></th>\n",
              "      <th>Twitter Hackers Divert Bitcoin Spoils to Other Accounts</th>\n",
              "    </tr>\n",
              "  </thead>\n",
              "  <tbody>\n",
              "    <tr>\n",
              "      <th>0</th>\n",
              "      <td>After $20 Billion Jio Frenzy Ambani Seeks Mone...</td>\n",
              "    </tr>\n",
              "    <tr>\n",
              "      <th>1</th>\n",
              "      <td>Massive Twitter Hack Hits Buffett Bezos Musk a...</td>\n",
              "    </tr>\n",
              "    <tr>\n",
              "      <th>2</th>\n",
              "      <td>Amazon Extends Work-From-Home Order Through Ja...</td>\n",
              "    </tr>\n",
              "    <tr>\n",
              "      <th>3</th>\n",
              "      <td>Apple Ruling Makes Silicon Valleys Nightmare a...</td>\n",
              "    </tr>\n",
              "    <tr>\n",
              "      <th>4</th>\n",
              "      <td>AWS Announces Amazon Interactive Video Service...</td>\n",
              "    </tr>\n",
              "    <tr>\n",
              "      <th>...</th>\n",
              "      <td>...</td>\n",
              "    </tr>\n",
              "    <tr>\n",
              "      <th>238</th>\n",
              "      <td>Coronavirus update: Florida sees deadliest day...</td>\n",
              "    </tr>\n",
              "    <tr>\n",
              "      <th>239</th>\n",
              "      <td>U.S. planning for tens of millions of potentia...</td>\n",
              "    </tr>\n",
              "    <tr>\n",
              "      <th>240</th>\n",
              "      <td>AstraZeneca's sNDA for Brilinta Gets FDA's Pri...</td>\n",
              "    </tr>\n",
              "    <tr>\n",
              "      <th>241</th>\n",
              "      <td>Coronavirus vaccine makers to testify before U...</td>\n",
              "    </tr>\n",
              "    <tr>\n",
              "      <th>242</th>\n",
              "      <td>Africa could have COVID-19 vaccine in Q1 if hu...</td>\n",
              "    </tr>\n",
              "  </tbody>\n",
              "</table>\n",
              "<p>243 rows × 1 columns</p>\n",
              "</div>"
            ],
            "text/plain": [
              "    Twitter Hackers Divert Bitcoin Spoils to Other Accounts\n",
              "0    After $20 Billion Jio Frenzy Ambani Seeks Mone...     \n",
              "1    Massive Twitter Hack Hits Buffett Bezos Musk a...     \n",
              "2    Amazon Extends Work-From-Home Order Through Ja...     \n",
              "3    Apple Ruling Makes Silicon Valleys Nightmare a...     \n",
              "4    AWS Announces Amazon Interactive Video Service...     \n",
              "..                                                 ...     \n",
              "238  Coronavirus update: Florida sees deadliest day...     \n",
              "239  U.S. planning for tens of millions of potentia...     \n",
              "240  AstraZeneca's sNDA for Brilinta Gets FDA's Pri...     \n",
              "241  Coronavirus vaccine makers to testify before U...     \n",
              "242  Africa could have COVID-19 vaccine in Q1 if hu...     \n",
              "\n",
              "[243 rows x 1 columns]"
            ]
          },
          "metadata": {
            "tags": []
          },
          "execution_count": 103
        }
      ]
    },
    {
      "cell_type": "code",
      "metadata": {
        "id": "3K7wohmnb0Pr"
      },
      "source": [
        "df8['polarity'] = df8.apply(lambda x: TextBlob(x['sentence']).sentiment.polarity, axis=1)\n",
        "df8['subjectivity'] = df8.apply(lambda x: TextBlob(x['sentence']).sentiment.subjectivity, axis=1)"
      ],
      "execution_count": null,
      "outputs": []
    },
    {
      "cell_type": "code",
      "metadata": {
        "id": "sirsXDNurq8_"
      },
      "source": [
        "df8[\"Ticker\"] = \"AMZN\"\n",
        "df8.to_csv(\"Newstoday(1).csv\", index=False)"
      ],
      "execution_count": null,
      "outputs": []
    },
    {
      "cell_type": "code",
      "metadata": {
        "id": "CHO7usrmsmqv",
        "outputId": "8f605ed4-a133-476f-baf7-525f7efda281",
        "colab": {
          "base_uri": "https://localhost:8080/",
          "height": 419
        }
      },
      "source": [
        "df8"
      ],
      "execution_count": null,
      "outputs": [
        {
          "output_type": "execute_result",
          "data": {
            "text/html": [
              "<div>\n",
              "<style scoped>\n",
              "    .dataframe tbody tr th:only-of-type {\n",
              "        vertical-align: middle;\n",
              "    }\n",
              "\n",
              "    .dataframe tbody tr th {\n",
              "        vertical-align: top;\n",
              "    }\n",
              "\n",
              "    .dataframe thead th {\n",
              "        text-align: right;\n",
              "    }\n",
              "</style>\n",
              "<table border=\"1\" class=\"dataframe\">\n",
              "  <thead>\n",
              "    <tr style=\"text-align: right;\">\n",
              "      <th></th>\n",
              "      <th>sentence</th>\n",
              "      <th>polarity</th>\n",
              "      <th>subjectivity</th>\n",
              "      <th>Ticker</th>\n",
              "    </tr>\n",
              "  </thead>\n",
              "  <tbody>\n",
              "    <tr>\n",
              "      <th>0</th>\n",
              "      <td>After $20 Billion Jio Frenzy\"\" Ambani Seeks Mo...</td>\n",
              "      <td>0.000000</td>\n",
              "      <td>0.000000</td>\n",
              "      <td>AMZN</td>\n",
              "    </tr>\n",
              "    <tr>\n",
              "      <th>1</th>\n",
              "      <td>Massive Twitter Hack Hits Buffett\"\" Bezos\"\" Mu...</td>\n",
              "      <td>0.250000</td>\n",
              "      <td>0.750000</td>\n",
              "      <td>AMZN</td>\n",
              "    </tr>\n",
              "    <tr>\n",
              "      <th>2</th>\n",
              "      <td>Amazon Extends Work-From-Home Order Through Ja...</td>\n",
              "      <td>0.000000</td>\n",
              "      <td>0.000000</td>\n",
              "      <td>AMZN</td>\n",
              "    </tr>\n",
              "    <tr>\n",
              "      <th>3</th>\n",
              "      <td>Apple Ruling Makes Silicon Valleys Nightmare a...</td>\n",
              "      <td>-0.333333</td>\n",
              "      <td>0.533333</td>\n",
              "      <td>AMZN</td>\n",
              "    </tr>\n",
              "    <tr>\n",
              "      <th>4</th>\n",
              "      <td>AWS Announces Amazon Interactive Video Service...</td>\n",
              "      <td>0.000000</td>\n",
              "      <td>0.000000</td>\n",
              "      <td>AMZN</td>\n",
              "    </tr>\n",
              "    <tr>\n",
              "      <th>...</th>\n",
              "      <td>...</td>\n",
              "      <td>...</td>\n",
              "      <td>...</td>\n",
              "      <td>...</td>\n",
              "    </tr>\n",
              "    <tr>\n",
              "      <th>236</th>\n",
              "      <td>Britain to set out its position on EU vaccine ...</td>\n",
              "      <td>0.000000</td>\n",
              "      <td>0.000000</td>\n",
              "      <td>AMZN</td>\n",
              "    </tr>\n",
              "    <tr>\n",
              "      <th>237</th>\n",
              "      <td>UK to shun EU coronavirus vaccine purchase plan</td>\n",
              "      <td>0.000000</td>\n",
              "      <td>0.000000</td>\n",
              "      <td>AMZN</td>\n",
              "    </tr>\n",
              "    <tr>\n",
              "      <th>238</th>\n",
              "      <td>Astrazeneca (AZN) Stock Moves -0.41%: What You...</td>\n",
              "      <td>0.000000</td>\n",
              "      <td>0.000000</td>\n",
              "      <td>AMZN</td>\n",
              "    </tr>\n",
              "    <tr>\n",
              "      <th>239</th>\n",
              "      <td>Coronavirus update: Florida sees deadliest day...</td>\n",
              "      <td>0.000000</td>\n",
              "      <td>0.000000</td>\n",
              "      <td>AMZN</td>\n",
              "    </tr>\n",
              "    <tr>\n",
              "      <th>240</th>\n",
              "      <td>U.S. planning for tens of millions of potentia...</td>\n",
              "      <td>0.000000</td>\n",
              "      <td>1.000000</td>\n",
              "      <td>AMZN</td>\n",
              "    </tr>\n",
              "  </tbody>\n",
              "</table>\n",
              "<p>241 rows × 4 columns</p>\n",
              "</div>"
            ],
            "text/plain": [
              "                                              sentence  ...  Ticker\n",
              "0    After $20 Billion Jio Frenzy\"\" Ambani Seeks Mo...  ...    AMZN\n",
              "1    Massive Twitter Hack Hits Buffett\"\" Bezos\"\" Mu...  ...    AMZN\n",
              "2    Amazon Extends Work-From-Home Order Through Ja...  ...    AMZN\n",
              "3    Apple Ruling Makes Silicon Valleys Nightmare a...  ...    AMZN\n",
              "4    AWS Announces Amazon Interactive Video Service...  ...    AMZN\n",
              "..                                                 ...  ...     ...\n",
              "236  Britain to set out its position on EU vaccine ...  ...    AMZN\n",
              "237    UK to shun EU coronavirus vaccine purchase plan  ...    AMZN\n",
              "238  Astrazeneca (AZN) Stock Moves -0.41%: What You...  ...    AMZN\n",
              "239  Coronavirus update: Florida sees deadliest day...  ...    AMZN\n",
              "240  U.S. planning for tens of millions of potentia...  ...    AMZN\n",
              "\n",
              "[241 rows x 4 columns]"
            ]
          },
          "metadata": {
            "tags": []
          },
          "execution_count": 50
        }
      ]
    },
    {
      "cell_type": "code",
      "metadata": {
        "id": "PjYOxMROjn_B",
        "outputId": "269ad3ba-bca4-461c-f3d2-3a5430005199",
        "colab": {
          "base_uri": "https://localhost:8080/",
          "height": 419
        }
      },
      "source": [
        "parsed_and_scored_news "
      ],
      "execution_count": null,
      "outputs": [
        {
          "output_type": "execute_result",
          "data": {
            "text/html": [
              "<div>\n",
              "<style scoped>\n",
              "    .dataframe tbody tr th:only-of-type {\n",
              "        vertical-align: middle;\n",
              "    }\n",
              "\n",
              "    .dataframe tbody tr th {\n",
              "        vertical-align: top;\n",
              "    }\n",
              "\n",
              "    .dataframe thead th {\n",
              "        text-align: right;\n",
              "    }\n",
              "</style>\n",
              "<table border=\"1\" class=\"dataframe\">\n",
              "  <thead>\n",
              "    <tr style=\"text-align: right;\">\n",
              "      <th></th>\n",
              "      <th>ticker</th>\n",
              "      <th>date</th>\n",
              "      <th>time</th>\n",
              "      <th>headline</th>\n",
              "    </tr>\n",
              "  </thead>\n",
              "  <tbody>\n",
              "    <tr>\n",
              "      <th>0</th>\n",
              "      <td>AMZN</td>\n",
              "      <td>Jul-15-20</td>\n",
              "      <td>08:20PM</td>\n",
              "      <td>After $20 Billion Jio Frenzy, Ambani Seeks Mon...</td>\n",
              "    </tr>\n",
              "    <tr>\n",
              "      <th>1</th>\n",
              "      <td>AMZN</td>\n",
              "      <td>Jul-15-20</td>\n",
              "      <td>06:38PM</td>\n",
              "      <td>Massive Twitter Hack Hits Buffett, Bezos, Musk...</td>\n",
              "    </tr>\n",
              "    <tr>\n",
              "      <th>2</th>\n",
              "      <td>AMZN</td>\n",
              "      <td>Jul-15-20</td>\n",
              "      <td>06:27PM</td>\n",
              "      <td>Amazon Extends Work-From-Home Order Through Ja...</td>\n",
              "    </tr>\n",
              "    <tr>\n",
              "      <th>3</th>\n",
              "      <td>AMZN</td>\n",
              "      <td>Jul-15-20</td>\n",
              "      <td>06:00PM</td>\n",
              "      <td>Apple Ruling Makes Silicon Valleys Nightmare a...</td>\n",
              "    </tr>\n",
              "    <tr>\n",
              "      <th>4</th>\n",
              "      <td>AMZN</td>\n",
              "      <td>Jul-15-20</td>\n",
              "      <td>05:10PM</td>\n",
              "      <td>AWS Announces Amazon Interactive Video Service...</td>\n",
              "    </tr>\n",
              "    <tr>\n",
              "      <th>...</th>\n",
              "      <td>...</td>\n",
              "      <td>...</td>\n",
              "      <td>...</td>\n",
              "      <td>...</td>\n",
              "    </tr>\n",
              "    <tr>\n",
              "      <th>654</th>\n",
              "      <td>GENE</td>\n",
              "      <td>Jan-31-18</td>\n",
              "      <td>05:00AM</td>\n",
              "      <td>Results from 31 January 2018 General Meeting</td>\n",
              "    </tr>\n",
              "    <tr>\n",
              "      <th>655</th>\n",
              "      <td>GENE</td>\n",
              "      <td>Jan-30-18</td>\n",
              "      <td>05:00AM</td>\n",
              "      <td>Resignation of Directors</td>\n",
              "    </tr>\n",
              "    <tr>\n",
              "      <th>656</th>\n",
              "      <td>GENE</td>\n",
              "      <td>Jan-29-18</td>\n",
              "      <td>05:30AM</td>\n",
              "      <td>Genetic Technologies Limited: Quarterly Activi...</td>\n",
              "    </tr>\n",
              "    <tr>\n",
              "      <th>657</th>\n",
              "      <td>GENE</td>\n",
              "      <td>Jan-09-18</td>\n",
              "      <td>09:11AM</td>\n",
              "      <td>Benzinga Pro's 5 Stocks To Watch Today</td>\n",
              "    </tr>\n",
              "    <tr>\n",
              "      <th>658</th>\n",
              "      <td>GENE</td>\n",
              "      <td>Oct-05-17</td>\n",
              "      <td>08:10AM</td>\n",
              "      <td>Today's Research Reports on Stocks to Watch: T...</td>\n",
              "    </tr>\n",
              "  </tbody>\n",
              "</table>\n",
              "<p>659 rows × 4 columns</p>\n",
              "</div>"
            ],
            "text/plain": [
              "    ticker  ...                                           headline\n",
              "0     AMZN  ...  After $20 Billion Jio Frenzy, Ambani Seeks Mon...\n",
              "1     AMZN  ...  Massive Twitter Hack Hits Buffett, Bezos, Musk...\n",
              "2     AMZN  ...  Amazon Extends Work-From-Home Order Through Ja...\n",
              "3     AMZN  ...  Apple Ruling Makes Silicon Valleys Nightmare a...\n",
              "4     AMZN  ...  AWS Announces Amazon Interactive Video Service...\n",
              "..     ...  ...                                                ...\n",
              "654   GENE  ...       Results from 31 January 2018 General Meeting\n",
              "655   GENE  ...                           Resignation of Directors\n",
              "656   GENE  ...  Genetic Technologies Limited: Quarterly Activi...\n",
              "657   GENE  ...             Benzinga Pro's 5 Stocks To Watch Today\n",
              "658   GENE  ...  Today's Research Reports on Stocks to Watch: T...\n",
              "\n",
              "[659 rows x 4 columns]"
            ]
          },
          "metadata": {
            "tags": []
          },
          "execution_count": 51
        }
      ]
    },
    {
      "cell_type": "code",
      "metadata": {
        "id": "X2oIJejn1Bkc"
      },
      "source": [
        "parsed_and_scored_news\n",
        "\n",
        "\n",
        "data_test = parsed_and_scored_news[parsed_and_scored_news['date'] > 'Jul-13-20'].copy()\n",
        "\n",
        "\n",
        "headlines = data_test['headline']"
      ],
      "execution_count": null,
      "outputs": []
    },
    {
      "cell_type": "code",
      "metadata": {
        "id": "zFCUAhpO1LLe"
      },
      "source": [
        "df = pd.read_csv('stock_datafinal.csv')\n"
      ],
      "execution_count": null,
      "outputs": []
    },
    {
      "cell_type": "code",
      "metadata": {
        "id": "ZAxVn5191aZq",
        "outputId": "4aa88cf7-ef71-4a37-cec9-c40213488201",
        "colab": {
          "base_uri": "https://localhost:8080/",
          "height": 34
        }
      },
      "source": [
        "positive = df[df['Sentiment']==1]\n",
        "Negative = df[df['Sentiment']==0]\n",
        "positive.shape"
      ],
      "execution_count": null,
      "outputs": [
        {
          "output_type": "execute_result",
          "data": {
            "text/plain": [
              "(3341, 2)"
            ]
          },
          "metadata": {
            "tags": []
          },
          "execution_count": 54
        }
      ]
    },
    {
      "cell_type": "code",
      "metadata": {
        "id": "c0nRinpJ2AfO",
        "outputId": "ac2b522f-df39-4c2c-b432-59b6ab2f3081",
        "colab": {
          "base_uri": "https://localhost:8080/",
          "height": 34
        }
      },
      "source": [
        "Negative.shape"
      ],
      "execution_count": null,
      "outputs": [
        {
          "output_type": "execute_result",
          "data": {
            "text/plain": [
              "(1634, 2)"
            ]
          },
          "metadata": {
            "tags": []
          },
          "execution_count": 55
        }
      ]
    },
    {
      "cell_type": "code",
      "metadata": {
        "id": "URFF5K0T3SDu"
      },
      "source": [
        "positive = positive.sample(Negative.shape[0])"
      ],
      "execution_count": null,
      "outputs": []
    },
    {
      "cell_type": "code",
      "metadata": {
        "id": "zOWtQ_PU2djy",
        "outputId": "98bc761c-5fe4-48b5-9d7b-6a218cb41c71",
        "colab": {
          "base_uri": "https://localhost:8080/",
          "height": 34
        }
      },
      "source": [
        "positive.shape"
      ],
      "execution_count": null,
      "outputs": [
        {
          "output_type": "execute_result",
          "data": {
            "text/plain": [
              "(1634, 2)"
            ]
          },
          "metadata": {
            "tags": []
          },
          "execution_count": 57
        }
      ]
    },
    {
      "cell_type": "code",
      "metadata": {
        "id": "wIVNEXm03U6E",
        "outputId": "603078ff-6df4-46e0-ae03-e109d587bda7",
        "colab": {
          "base_uri": "https://localhost:8080/",
          "height": 204
        }
      },
      "source": [
        "data = positive.append(Negative,ignore_index=True)\n",
        "data.tail()"
      ],
      "execution_count": null,
      "outputs": [
        {
          "output_type": "execute_result",
          "data": {
            "text/html": [
              "<div>\n",
              "<style scoped>\n",
              "    .dataframe tbody tr th:only-of-type {\n",
              "        vertical-align: middle;\n",
              "    }\n",
              "\n",
              "    .dataframe tbody tr th {\n",
              "        vertical-align: top;\n",
              "    }\n",
              "\n",
              "    .dataframe thead th {\n",
              "        text-align: right;\n",
              "    }\n",
              "</style>\n",
              "<table border=\"1\" class=\"dataframe\">\n",
              "  <thead>\n",
              "    <tr style=\"text-align: right;\">\n",
              "      <th></th>\n",
              "      <th>Text</th>\n",
              "      <th>Sentiment</th>\n",
              "    </tr>\n",
              "  </thead>\n",
              "  <tbody>\n",
              "    <tr>\n",
              "      <th>3263</th>\n",
              "      <td>JOSB 50% off on almost everything. Funny, they...</td>\n",
              "      <td>0</td>\n",
              "    </tr>\n",
              "    <tr>\n",
              "      <th>3264</th>\n",
              "      <td>DE considering buying some put options...</td>\n",
              "      <td>0</td>\n",
              "    </tr>\n",
              "    <tr>\n",
              "      <th>3265</th>\n",
              "      <td>Happy Easter! SHOT Setups: CS ISG CF AN NKD OW...</td>\n",
              "      <td>0</td>\n",
              "    </tr>\n",
              "    <tr>\n",
              "      <th>3266</th>\n",
              "      <td>CAT may try to jump on the boat with some Put ...</td>\n",
              "      <td>0</td>\n",
              "    </tr>\n",
              "    <tr>\n",
              "      <th>3267</th>\n",
              "      <td>If AAP goes to over 451, I will go short. Stil...</td>\n",
              "      <td>0</td>\n",
              "    </tr>\n",
              "  </tbody>\n",
              "</table>\n",
              "</div>"
            ],
            "text/plain": [
              "                                                   Text  Sentiment\n",
              "3263  JOSB 50% off on almost everything. Funny, they...          0\n",
              "3264          DE considering buying some put options...          0\n",
              "3265  Happy Easter! SHOT Setups: CS ISG CF AN NKD OW...          0\n",
              "3266  CAT may try to jump on the boat with some Put ...          0\n",
              "3267  If AAP goes to over 451, I will go short. Stil...          0"
            ]
          },
          "metadata": {
            "tags": []
          },
          "execution_count": 58
        }
      ]
    },
    {
      "cell_type": "code",
      "metadata": {
        "id": "0VFpxhvQ30w0"
      },
      "source": [
        "X_train, X_test, y_train, y_test = train_test_split(data['Text'], data['Sentiment'], test_size=.1, random_state=0,\n",
        "                                                    shuffle=True,stratify=data['Sentiment'] )"
      ],
      "execution_count": null,
      "outputs": []
    },
    {
      "cell_type": "code",
      "metadata": {
        "id": "9tzpqHHb4Wvp"
      },
      "source": [
        "clf = Pipeline([('tfidf', TfidfVectorizer()), ('clf', SVC(C=10000, gamma='auto'))])"
      ],
      "execution_count": null,
      "outputs": []
    },
    {
      "cell_type": "code",
      "metadata": {
        "id": "JUhCTmO44b6n",
        "outputId": "58309b72-3608-414c-c344-cab48f13c1e2",
        "colab": {
          "base_uri": "https://localhost:8080/",
          "height": 391
        }
      },
      "source": [
        "clf.fit(X_train,y_train)"
      ],
      "execution_count": null,
      "outputs": [
        {
          "output_type": "execute_result",
          "data": {
            "text/plain": [
              "Pipeline(memory=None,\n",
              "         steps=[('tfidf',\n",
              "                 TfidfVectorizer(analyzer='word', binary=False,\n",
              "                                 decode_error='strict',\n",
              "                                 dtype=<class 'numpy.float64'>,\n",
              "                                 encoding='utf-8', input='content',\n",
              "                                 lowercase=True, max_df=1.0, max_features=None,\n",
              "                                 min_df=1, ngram_range=(1, 1), norm='l2',\n",
              "                                 preprocessor=None, smooth_idf=True,\n",
              "                                 stop_words=None, strip_accents=None,\n",
              "                                 sublinear_tf=False,\n",
              "                                 token_pattern='(?u)\\\\b\\\\w\\\\w+\\\\b',\n",
              "                                 tokenizer=None, use_idf=True,\n",
              "                                 vocabulary=None)),\n",
              "                ('clf',\n",
              "                 SVC(C=10000, break_ties=False, cache_size=200,\n",
              "                     class_weight=None, coef0=0.0,\n",
              "                     decision_function_shape='ovr', degree=3, gamma='auto',\n",
              "                     kernel='rbf', max_iter=-1, probability=False,\n",
              "                     random_state=None, shrinking=True, tol=0.001,\n",
              "                     verbose=False))],\n",
              "         verbose=False)"
            ]
          },
          "metadata": {
            "tags": []
          },
          "execution_count": 61
        }
      ]
    },
    {
      "cell_type": "code",
      "metadata": {
        "id": "Zc4jwpvn4kz7"
      },
      "source": [
        "y_pred = clf.predict(X_test)\n"
      ],
      "execution_count": null,
      "outputs": []
    },
    {
      "cell_type": "code",
      "metadata": {
        "id": "BpkkRQuM5CMB",
        "outputId": "61133925-be0c-49c6-ad77-69b31f8486c1",
        "colab": {
          "base_uri": "https://localhost:8080/",
          "height": 51
        }
      },
      "source": [
        "confusion_matrix(y_test, y_pred)\n"
      ],
      "execution_count": null,
      "outputs": [
        {
          "output_type": "execute_result",
          "data": {
            "text/plain": [
              "array([[128,  36],\n",
              "       [ 36, 127]])"
            ]
          },
          "metadata": {
            "tags": []
          },
          "execution_count": 63
        }
      ]
    },
    {
      "cell_type": "code",
      "metadata": {
        "id": "yYfRA94o5E7z",
        "outputId": "0281488e-2221-40f7-baed-4e6cf7869830",
        "colab": {
          "base_uri": "https://localhost:8080/",
          "height": 34
        }
      },
      "source": [
        "accuracy_score(y_test, y_pred)"
      ],
      "execution_count": null,
      "outputs": [
        {
          "output_type": "execute_result",
          "data": {
            "text/plain": [
              "0.7798165137614679"
            ]
          },
          "metadata": {
            "tags": []
          },
          "execution_count": 64
        }
      ]
    },
    {
      "cell_type": "code",
      "metadata": {
        "id": "9eblv4cUqWIr"
      },
      "source": [
        "pos = []\n",
        "neg = []\n",
        "error = []\n",
        "ticker2 = []\n",
        "realticker =[]"
      ],
      "execution_count": null,
      "outputs": []
    },
    {
      "cell_type": "code",
      "metadata": {
        "id": "3c2uuzM6yIWT",
        "outputId": "0ec0d99a-f56c-4f6b-c692-4d2802c6fb63",
        "colab": {
          "base_uri": "https://localhost:8080/",
          "height": 34
        }
      },
      "source": [
        "data_test.shape[0]"
      ],
      "execution_count": null,
      "outputs": [
        {
          "output_type": "execute_result",
          "data": {
            "text/plain": [
              "394"
            ]
          },
          "metadata": {
            "tags": []
          },
          "execution_count": 66
        }
      ]
    },
    {
      "cell_type": "code",
      "metadata": {
        "id": "3c4-FIKT7hpk"
      },
      "source": [
        "\n",
        "for i in range(0,data_test.shape[0]):\n",
        "  try:\n",
        "      if clf.predict([df8['sentence'][i]])==1:\n",
        "        ticker2=[data_test['ticker'][i]]\n",
        "        realticker.append(ticker2)\n",
        "        pos.append('1')\n",
        "      else: \n",
        "        neg.append('0')\n",
        "  except KeyError:\n",
        "    error.append('error')\n",
        " \n",
        "  "
      ],
      "execution_count": null,
      "outputs": []
    },
    {
      "cell_type": "code",
      "metadata": {
        "id": "wDRLTkYnuIJZ",
        "outputId": "5f99fe1f-a954-4aee-889b-75163d64d40c",
        "colab": {
          "base_uri": "https://localhost:8080/",
          "height": 34
        }
      },
      "source": [
        "len(pos)"
      ],
      "execution_count": null,
      "outputs": [
        {
          "output_type": "execute_result",
          "data": {
            "text/plain": [
              "109"
            ]
          },
          "metadata": {
            "tags": []
          },
          "execution_count": 68
        }
      ]
    },
    {
      "cell_type": "code",
      "metadata": {
        "id": "Oei6yXj0uV2p",
        "outputId": "8f6f0fe3-bd4a-473a-a686-96bbe080b5e3",
        "colab": {
          "base_uri": "https://localhost:8080/",
          "height": 34
        }
      },
      "source": [
        "len(neg)"
      ],
      "execution_count": null,
      "outputs": [
        {
          "output_type": "execute_result",
          "data": {
            "text/plain": [
              "72"
            ]
          },
          "metadata": {
            "tags": []
          },
          "execution_count": 69
        }
      ]
    },
    {
      "cell_type": "code",
      "metadata": {
        "id": "LA4NtkHEx_D7",
        "outputId": "e0168918-fd2c-4b5f-9379-887face7a9b3",
        "colab": {
          "base_uri": "https://localhost:8080/",
          "height": 34
        }
      },
      "source": [
        "len(error)"
      ],
      "execution_count": null,
      "outputs": [
        {
          "output_type": "execute_result",
          "data": {
            "text/plain": [
              "213"
            ]
          },
          "metadata": {
            "tags": []
          },
          "execution_count": 70
        }
      ]
    },
    {
      "cell_type": "code",
      "metadata": {
        "id": "_H81YwUy0_AA",
        "outputId": "83f2785f-d5bb-40c5-fa80-419800eea979",
        "colab": {
          "base_uri": "https://localhost:8080/",
          "height": 1000
        }
      },
      "source": [
        "realticker"
      ],
      "execution_count": null,
      "outputs": [
        {
          "output_type": "execute_result",
          "data": {
            "text/plain": [
              "[['AMZN'],\n",
              " ['AMZN'],\n",
              " ['AMZN'],\n",
              " ['AMZN'],\n",
              " ['AMZN'],\n",
              " ['AMZN'],\n",
              " ['AMZN'],\n",
              " ['AMZN'],\n",
              " ['AMZN'],\n",
              " ['AMZN'],\n",
              " ['AMZN'],\n",
              " ['AMZN'],\n",
              " ['AMZN'],\n",
              " ['AMZN'],\n",
              " ['AMZN'],\n",
              " ['AMZN'],\n",
              " ['AMZN'],\n",
              " ['AMZN'],\n",
              " ['AMZN'],\n",
              " ['AMZN'],\n",
              " ['AMZN'],\n",
              " ['AMZN'],\n",
              " ['AMZN'],\n",
              " ['AMZN'],\n",
              " ['AMZN'],\n",
              " ['AMZN'],\n",
              " ['AMZN'],\n",
              " ['AMZN'],\n",
              " ['AMZN'],\n",
              " ['AMZN'],\n",
              " ['AMZN'],\n",
              " ['AMZN'],\n",
              " ['AMZN'],\n",
              " ['AMZN'],\n",
              " ['AMZN'],\n",
              " ['AMZN'],\n",
              " ['AMZN'],\n",
              " ['AMZN'],\n",
              " ['AMZN'],\n",
              " ['AMZN'],\n",
              " ['AMZN'],\n",
              " ['AMZN'],\n",
              " ['AMZN'],\n",
              " ['AMZN'],\n",
              " ['AMZN'],\n",
              " ['AMZN'],\n",
              " ['AMZN'],\n",
              " ['AMZN'],\n",
              " ['AMZN'],\n",
              " ['AMZN'],\n",
              " ['AMZN'],\n",
              " ['AMZN'],\n",
              " ['AMZN'],\n",
              " ['AMZN'],\n",
              " ['AMZN'],\n",
              " ['AMZN'],\n",
              " ['AMZN'],\n",
              " ['AMZN'],\n",
              " ['AMZN'],\n",
              " ['AMZN'],\n",
              " ['AMZN'],\n",
              " ['AMZN'],\n",
              " ['AMZN'],\n",
              " ['AMZN'],\n",
              " ['AMZN'],\n",
              " ['AMZN'],\n",
              " ['AMZN'],\n",
              " ['AMZN'],\n",
              " ['TWTR'],\n",
              " ['TWTR'],\n",
              " ['TWTR'],\n",
              " ['TWTR'],\n",
              " ['TWTR'],\n",
              " ['TWTR'],\n",
              " ['TWTR'],\n",
              " ['TWTR'],\n",
              " ['TWTR'],\n",
              " ['TWTR'],\n",
              " ['TWTR'],\n",
              " ['TWTR'],\n",
              " ['TWTR'],\n",
              " ['TWTR'],\n",
              " ['TWTR'],\n",
              " ['TWTR'],\n",
              " ['TWTR'],\n",
              " ['TWTR'],\n",
              " ['TWTR'],\n",
              " ['AZN'],\n",
              " ['AZN'],\n",
              " ['AZN'],\n",
              " ['AZN'],\n",
              " ['AZN'],\n",
              " ['AZN'],\n",
              " ['AZN'],\n",
              " ['AZN'],\n",
              " ['AZN'],\n",
              " ['AZN'],\n",
              " ['AZN'],\n",
              " ['AZN'],\n",
              " ['AZN'],\n",
              " ['AZN'],\n",
              " ['AZN'],\n",
              " ['AZN'],\n",
              " ['AZN'],\n",
              " ['AZN'],\n",
              " ['AZN'],\n",
              " ['AZN'],\n",
              " ['AZN'],\n",
              " ['AZN']]"
            ]
          },
          "metadata": {
            "tags": []
          },
          "execution_count": 71
        }
      ]
    }
  ]
}