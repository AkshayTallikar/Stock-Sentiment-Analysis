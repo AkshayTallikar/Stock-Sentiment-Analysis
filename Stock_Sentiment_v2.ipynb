{
  "nbformat": 4,
  "nbformat_minor": 0,
  "metadata": {
    "colab": {
      "name": "Stock Sentiment v2.ipynb",
      "provenance": [],
      "collapsed_sections": []
    },
    "kernelspec": {
      "name": "python3",
      "display_name": "Python 3"
    }
  },
  "cells": [
    {
      "cell_type": "code",
      "metadata": {
        "id": "dhEGZnTW0fRb",
        "colab_type": "code",
        "colab": {}
      },
      "source": [
        "import pandas as pd\n",
        "from urllib.request import urlopen, Request\n",
        "from bs4 import BeautifulSoup\n",
        "import os\n",
        "import pandas as pd\n",
        "import matplotlib.pyplot as plt\n",
        "from sklearn.model_selection import train_test_split\n",
        "from sklearn.ensemble import RandomForestClassifier\n",
        "from sklearn.svm import SVC\n",
        "from sklearn.metrics import accuracy_score, classification_report, confusion_matrix\n",
        "from sklearn.pipeline import Pipeline\n",
        "from sklearn.feature_extraction.text import TfidfVectorizer\n",
        "from csv import writer\n",
        "from sklearn.feature_extraction.text import TfidfTransformer\n",
        "\n",
        "finwiz_url = 'https://finviz.com/quote.ashx?t='\n"
      ],
      "execution_count": 150,
      "outputs": []
    },
    {
      "cell_type": "code",
      "metadata": {
        "id": "2Imp3OVB0lEO",
        "colab_type": "code",
        "colab": {}
      },
      "source": [
        "news_tables = {}\n",
        "tickers = ['AMZN', 'TSLA', 'GOOG']\n",
        "\n",
        "for ticker in tickers:\n",
        "    url = finwiz_url + ticker\n",
        "    req = Request(url=url, headers={'user-agent': 'my-app/0.0.1'})\n",
        "    response = urlopen(req)\n",
        "    # Read the contents of the file into 'html'\n",
        "    html = BeautifulSoup(response)\n",
        "    # Find 'news-table' in the Soup and load it into 'news_table'\n",
        "    news_table = html.find(id='news-table')\n",
        "    # Add the table to our dictionary\n",
        "    news_tables[ticker] = news_table"
      ],
      "execution_count": 149,
      "outputs": []
    },
    {
      "cell_type": "code",
      "metadata": {
        "id": "mRmOFAel0pB_",
        "colab_type": "code",
        "colab": {}
      },
      "source": [
        "parsed_news = []\n",
        "\n",
        "# Iterate through the news\n",
        "for file_name, news_table in news_tables.items():\n",
        "    # Iterate through all tr tags in 'news_table'\n",
        "    for x in news_table.findAll('tr'):\n",
        "        # read the text from each tr tag into text\n",
        "        # get text from a only\n",
        "        text = x.a.get_text()\n",
        "        # splite text in the td tag into a list\n",
        "        date_scrape = x.td.text.split()\n",
        "        # if the length of 'date_scrape' is 1, load 'time' as the only element\n",
        "\n",
        "        if len(date_scrape) == 1:\n",
        "            time = date_scrape[0]\n",
        "\n",
        "        # else load 'date' as the 1st element and 'time' as the second\n",
        "        else:\n",
        "            date = date_scrape[0]\n",
        "            time = date_scrape[1]\n",
        "        # Extract the ticker from the file name, get the string up to the 1st '_'\n",
        "        ticker = file_name.split('_')[0]\n",
        "\n",
        "        # Append ticker, date, time and headline as a list to the 'parsed_news' list\n",
        "        parsed_news.append([ticker, date, time, text])"
      ],
      "execution_count": 151,
      "outputs": []
    },
    {
      "cell_type": "code",
      "metadata": {
        "id": "hTOAby9D1AJf",
        "colab_type": "code",
        "colab": {
          "base_uri": "https://localhost:8080/",
          "height": 35
        },
        "outputId": "8c6a4f21-09fd-4256-f134-a4a3ada40ff0"
      },
      "source": [
        "columns = ['ticker', 'date', 'time', 'headline']\n",
        "\n",
        "# Convert the parsed_news list into a DataFrame called 'parsed_and_scored_news'\n",
        "parsed_and_scored_news = pd.DataFrame(parsed_news, columns=columns)\n",
        "\n",
        "# Web scraping taken from TowardsDataScience from Damien Boh\n",
        "'Damian Boh,May 6 (2020),Sentiment Analysis of Stocks from Financial News using Python,[Source code],https://towardsdatascience.com/sentiment-analysis-of-stocks-from-financial-news-using-python-82ebdcefb638'"
      ],
      "execution_count": 152,
      "outputs": [
        {
          "output_type": "execute_result",
          "data": {
            "application/vnd.google.colaboratory.intrinsic": {
              "type": "string"
            },
            "text/plain": [
              "'Damian Boh,May 6 (2020),Sentiment Analysis of Stocks from Financial News using Python,[Source code],https://towardsdatascience.com/sentiment-analysis-of-stocks-from-financial-news-using-python-82ebdcefb638'"
            ]
          },
          "metadata": {
            "tags": []
          },
          "execution_count": 152
        }
      ]
    },
    {
      "cell_type": "code",
      "metadata": {
        "id": "PjYOxMROjn_B",
        "colab_type": "code",
        "colab": {
          "base_uri": "https://localhost:8080/",
          "height": 419
        },
        "outputId": "357bc366-7114-41fa-be63-0fdca90cfc51"
      },
      "source": [
        "parsed_and_scored_news "
      ],
      "execution_count": 153,
      "outputs": [
        {
          "output_type": "execute_result",
          "data": {
            "text/html": [
              "<div>\n",
              "<style scoped>\n",
              "    .dataframe tbody tr th:only-of-type {\n",
              "        vertical-align: middle;\n",
              "    }\n",
              "\n",
              "    .dataframe tbody tr th {\n",
              "        vertical-align: top;\n",
              "    }\n",
              "\n",
              "    .dataframe thead th {\n",
              "        text-align: right;\n",
              "    }\n",
              "</style>\n",
              "<table border=\"1\" class=\"dataframe\">\n",
              "  <thead>\n",
              "    <tr style=\"text-align: right;\">\n",
              "      <th></th>\n",
              "      <th>ticker</th>\n",
              "      <th>date</th>\n",
              "      <th>time</th>\n",
              "      <th>headline</th>\n",
              "    </tr>\n",
              "  </thead>\n",
              "  <tbody>\n",
              "    <tr>\n",
              "      <th>0</th>\n",
              "      <td>AMZN</td>\n",
              "      <td>Jul-14-20</td>\n",
              "      <td>02:49PM</td>\n",
              "      <td>US STOCKS-Dow jumps 1.6%, leads Wall Street hi...</td>\n",
              "    </tr>\n",
              "    <tr>\n",
              "      <th>1</th>\n",
              "      <td>AMZN</td>\n",
              "      <td>Jul-14-20</td>\n",
              "      <td>02:05PM</td>\n",
              "      <td>Walmart Leads $1.2 Billion Funding Round of Fl...</td>\n",
              "    </tr>\n",
              "    <tr>\n",
              "      <th>2</th>\n",
              "      <td>AMZN</td>\n",
              "      <td>Jul-14-20</td>\n",
              "      <td>02:02PM</td>\n",
              "      <td>Dow Jones Jumps as JPMorgan Beats Earnings Est...</td>\n",
              "    </tr>\n",
              "    <tr>\n",
              "      <th>3</th>\n",
              "      <td>AMZN</td>\n",
              "      <td>Jul-14-20</td>\n",
              "      <td>01:19PM</td>\n",
              "      <td>Amazon Workers in Memphis Are Spooked as Virus...</td>\n",
              "    </tr>\n",
              "    <tr>\n",
              "      <th>4</th>\n",
              "      <td>AMZN</td>\n",
              "      <td>Jul-14-20</td>\n",
              "      <td>12:20PM</td>\n",
              "      <td>Amazon Applies 'Just Walk Out' Technology to S...</td>\n",
              "    </tr>\n",
              "    <tr>\n",
              "      <th>...</th>\n",
              "      <td>...</td>\n",
              "      <td>...</td>\n",
              "      <td>...</td>\n",
              "      <td>...</td>\n",
              "    </tr>\n",
              "    <tr>\n",
              "      <th>295</th>\n",
              "      <td>GOOG</td>\n",
              "      <td>Jul-09-20</td>\n",
              "      <td>10:59AM</td>\n",
              "      <td>Exclusive: Google can ward off EU antitrust pr...</td>\n",
              "    </tr>\n",
              "    <tr>\n",
              "      <th>296</th>\n",
              "      <td>GOOG</td>\n",
              "      <td>Jul-09-20</td>\n",
              "      <td>10:59AM</td>\n",
              "      <td>Exclusive: Google can ward off EU antitrust pr...</td>\n",
              "    </tr>\n",
              "    <tr>\n",
              "      <th>297</th>\n",
              "      <td>GOOG</td>\n",
              "      <td>Jul-09-20</td>\n",
              "      <td>10:36AM</td>\n",
              "      <td>Round two of stimulus is 'already priced into ...</td>\n",
              "    </tr>\n",
              "    <tr>\n",
              "      <th>298</th>\n",
              "      <td>GOOG</td>\n",
              "      <td>Jul-09-20</td>\n",
              "      <td>09:53AM</td>\n",
              "      <td>Google Cloud Forges Multi-Year Deal With Renault</td>\n",
              "    </tr>\n",
              "    <tr>\n",
              "      <th>299</th>\n",
              "      <td>GOOG</td>\n",
              "      <td>Jul-09-20</td>\n",
              "      <td>09:49AM</td>\n",
              "      <td>Musk Says Tesla Is Very Close to Developing Fu...</td>\n",
              "    </tr>\n",
              "  </tbody>\n",
              "</table>\n",
              "<p>300 rows × 4 columns</p>\n",
              "</div>"
            ],
            "text/plain": [
              "    ticker  ...                                           headline\n",
              "0     AMZN  ...  US STOCKS-Dow jumps 1.6%, leads Wall Street hi...\n",
              "1     AMZN  ...  Walmart Leads $1.2 Billion Funding Round of Fl...\n",
              "2     AMZN  ...  Dow Jones Jumps as JPMorgan Beats Earnings Est...\n",
              "3     AMZN  ...  Amazon Workers in Memphis Are Spooked as Virus...\n",
              "4     AMZN  ...  Amazon Applies 'Just Walk Out' Technology to S...\n",
              "..     ...  ...                                                ...\n",
              "295   GOOG  ...  Exclusive: Google can ward off EU antitrust pr...\n",
              "296   GOOG  ...  Exclusive: Google can ward off EU antitrust pr...\n",
              "297   GOOG  ...  Round two of stimulus is 'already priced into ...\n",
              "298   GOOG  ...   Google Cloud Forges Multi-Year Deal With Renault\n",
              "299   GOOG  ...  Musk Says Tesla Is Very Close to Developing Fu...\n",
              "\n",
              "[300 rows x 4 columns]"
            ]
          },
          "metadata": {
            "tags": []
          },
          "execution_count": 153
        }
      ]
    },
    {
      "cell_type": "code",
      "metadata": {
        "id": "paOS880aju7J",
        "colab_type": "code",
        "colab": {}
      },
      "source": [
        "\n"
      ],
      "execution_count": 153,
      "outputs": []
    },
    {
      "cell_type": "code",
      "metadata": {
        "id": "X2oIJejn1Bkc",
        "colab_type": "code",
        "colab": {}
      },
      "source": [
        "parsed_and_scored_news\n",
        "\n",
        "\n",
        "data_test = parsed_and_scored_news[parsed_and_scored_news['date'] > 'Jul-13-20'].copy()\n",
        "\n",
        "\n",
        "headlines = data_test['headline']"
      ],
      "execution_count": 226,
      "outputs": []
    },
    {
      "cell_type": "code",
      "metadata": {
        "id": "zFCUAhpO1LLe",
        "colab_type": "code",
        "colab": {}
      },
      "source": [
        "df = pd.read_csv('stock_datafinal.csv')\n"
      ],
      "execution_count": 227,
      "outputs": []
    },
    {
      "cell_type": "code",
      "metadata": {
        "id": "ZAxVn5191aZq",
        "colab_type": "code",
        "colab": {
          "base_uri": "https://localhost:8080/",
          "height": 34
        },
        "outputId": "6da72acc-63a0-46e0-a90e-26047a8209d0"
      },
      "source": [
        "positive = df[df['Sentiment']==1]\n",
        "Negative = df[df['Sentiment']==0]\n",
        "positive.shape"
      ],
      "execution_count": 228,
      "outputs": [
        {
          "output_type": "execute_result",
          "data": {
            "text/plain": [
              "(3341, 2)"
            ]
          },
          "metadata": {
            "tags": []
          },
          "execution_count": 228
        }
      ]
    },
    {
      "cell_type": "code",
      "metadata": {
        "id": "c0nRinpJ2AfO",
        "colab_type": "code",
        "colab": {
          "base_uri": "https://localhost:8080/",
          "height": 34
        },
        "outputId": "19e41ebe-20a5-45fc-870b-77f41a1834be"
      },
      "source": [
        "Negative.shape"
      ],
      "execution_count": 229,
      "outputs": [
        {
          "output_type": "execute_result",
          "data": {
            "text/plain": [
              "(1634, 2)"
            ]
          },
          "metadata": {
            "tags": []
          },
          "execution_count": 229
        }
      ]
    },
    {
      "cell_type": "code",
      "metadata": {
        "id": "URFF5K0T3SDu",
        "colab_type": "code",
        "colab": {}
      },
      "source": [
        "positive = positive.sample(Negative.shape[0])"
      ],
      "execution_count": 230,
      "outputs": []
    },
    {
      "cell_type": "code",
      "metadata": {
        "id": "zOWtQ_PU2djy",
        "colab_type": "code",
        "colab": {
          "base_uri": "https://localhost:8080/",
          "height": 34
        },
        "outputId": "dbedc603-adcd-43b9-f453-0db8ea5787d4"
      },
      "source": [
        "positive.shape"
      ],
      "execution_count": 231,
      "outputs": [
        {
          "output_type": "execute_result",
          "data": {
            "text/plain": [
              "(1634, 2)"
            ]
          },
          "metadata": {
            "tags": []
          },
          "execution_count": 231
        }
      ]
    },
    {
      "cell_type": "code",
      "metadata": {
        "id": "wIVNEXm03U6E",
        "colab_type": "code",
        "colab": {
          "base_uri": "https://localhost:8080/",
          "height": 204
        },
        "outputId": "51cd2aeb-c2d5-48f4-95dd-4a4d635510ed"
      },
      "source": [
        "data = positive.append(Negative,ignore_index=True)\n",
        "data.tail()"
      ],
      "execution_count": 232,
      "outputs": [
        {
          "output_type": "execute_result",
          "data": {
            "text/html": [
              "<div>\n",
              "<style scoped>\n",
              "    .dataframe tbody tr th:only-of-type {\n",
              "        vertical-align: middle;\n",
              "    }\n",
              "\n",
              "    .dataframe tbody tr th {\n",
              "        vertical-align: top;\n",
              "    }\n",
              "\n",
              "    .dataframe thead th {\n",
              "        text-align: right;\n",
              "    }\n",
              "</style>\n",
              "<table border=\"1\" class=\"dataframe\">\n",
              "  <thead>\n",
              "    <tr style=\"text-align: right;\">\n",
              "      <th></th>\n",
              "      <th>Text</th>\n",
              "      <th>Sentiment</th>\n",
              "    </tr>\n",
              "  </thead>\n",
              "  <tbody>\n",
              "    <tr>\n",
              "      <th>3263</th>\n",
              "      <td>JOSB 50% off on almost everything. Funny, they...</td>\n",
              "      <td>0</td>\n",
              "    </tr>\n",
              "    <tr>\n",
              "      <th>3264</th>\n",
              "      <td>DE considering buying some put options...</td>\n",
              "      <td>0</td>\n",
              "    </tr>\n",
              "    <tr>\n",
              "      <th>3265</th>\n",
              "      <td>Happy Easter! SHOT Setups: CS ISG CF AN NKD OW...</td>\n",
              "      <td>0</td>\n",
              "    </tr>\n",
              "    <tr>\n",
              "      <th>3266</th>\n",
              "      <td>CAT may try to jump on the boat with some Put ...</td>\n",
              "      <td>0</td>\n",
              "    </tr>\n",
              "    <tr>\n",
              "      <th>3267</th>\n",
              "      <td>If AAP goes to over 451, I will go short. Stil...</td>\n",
              "      <td>0</td>\n",
              "    </tr>\n",
              "  </tbody>\n",
              "</table>\n",
              "</div>"
            ],
            "text/plain": [
              "                                                   Text  Sentiment\n",
              "3263  JOSB 50% off on almost everything. Funny, they...          0\n",
              "3264          DE considering buying some put options...          0\n",
              "3265  Happy Easter! SHOT Setups: CS ISG CF AN NKD OW...          0\n",
              "3266  CAT may try to jump on the boat with some Put ...          0\n",
              "3267  If AAP goes to over 451, I will go short. Stil...          0"
            ]
          },
          "metadata": {
            "tags": []
          },
          "execution_count": 232
        }
      ]
    },
    {
      "cell_type": "code",
      "metadata": {
        "id": "0VFpxhvQ30w0",
        "colab_type": "code",
        "colab": {}
      },
      "source": [
        "X_train, X_test, y_train, y_test = train_test_split(data['Text'], data['Sentiment'], test_size=.1, random_state=0,\n",
        "                                                    shuffle=True,stratify=data['Sentiment'] )"
      ],
      "execution_count": 233,
      "outputs": []
    },
    {
      "cell_type": "code",
      "metadata": {
        "id": "9tzpqHHb4Wvp",
        "colab_type": "code",
        "colab": {}
      },
      "source": [
        "clf = Pipeline([('tfidf', TfidfVectorizer()), ('clf', SVC(C=10000, gamma='auto'))])"
      ],
      "execution_count": 234,
      "outputs": []
    },
    {
      "cell_type": "code",
      "metadata": {
        "id": "JUhCTmO44b6n",
        "colab_type": "code",
        "colab": {
          "base_uri": "https://localhost:8080/",
          "height": 391
        },
        "outputId": "51128334-84c5-411d-eb0e-8db299df5179"
      },
      "source": [
        "clf.fit(X_train,y_train)"
      ],
      "execution_count": 235,
      "outputs": [
        {
          "output_type": "execute_result",
          "data": {
            "text/plain": [
              "Pipeline(memory=None,\n",
              "         steps=[('tfidf',\n",
              "                 TfidfVectorizer(analyzer='word', binary=False,\n",
              "                                 decode_error='strict',\n",
              "                                 dtype=<class 'numpy.float64'>,\n",
              "                                 encoding='utf-8', input='content',\n",
              "                                 lowercase=True, max_df=1.0, max_features=None,\n",
              "                                 min_df=1, ngram_range=(1, 1), norm='l2',\n",
              "                                 preprocessor=None, smooth_idf=True,\n",
              "                                 stop_words=None, strip_accents=None,\n",
              "                                 sublinear_tf=False,\n",
              "                                 token_pattern='(?u)\\\\b\\\\w\\\\w+\\\\b',\n",
              "                                 tokenizer=None, use_idf=True,\n",
              "                                 vocabulary=None)),\n",
              "                ('clf',\n",
              "                 SVC(C=10000, break_ties=False, cache_size=200,\n",
              "                     class_weight=None, coef0=0.0,\n",
              "                     decision_function_shape='ovr', degree=3, gamma='auto',\n",
              "                     kernel='rbf', max_iter=-1, probability=False,\n",
              "                     random_state=None, shrinking=True, tol=0.001,\n",
              "                     verbose=False))],\n",
              "         verbose=False)"
            ]
          },
          "metadata": {
            "tags": []
          },
          "execution_count": 235
        }
      ]
    },
    {
      "cell_type": "code",
      "metadata": {
        "id": "Zc4jwpvn4kz7",
        "colab_type": "code",
        "colab": {}
      },
      "source": [
        "y_pred = clf.predict(X_test)\n"
      ],
      "execution_count": 236,
      "outputs": []
    },
    {
      "cell_type": "code",
      "metadata": {
        "id": "BpkkRQuM5CMB",
        "colab_type": "code",
        "colab": {
          "base_uri": "https://localhost:8080/",
          "height": 51
        },
        "outputId": "82b0f152-dcbc-49cd-ad5e-edd01dddce0f"
      },
      "source": [
        "confusion_matrix(y_test, y_pred)\n"
      ],
      "execution_count": 237,
      "outputs": [
        {
          "output_type": "execute_result",
          "data": {
            "text/plain": [
              "array([[126,  38],\n",
              "       [ 41, 122]])"
            ]
          },
          "metadata": {
            "tags": []
          },
          "execution_count": 237
        }
      ]
    },
    {
      "cell_type": "code",
      "metadata": {
        "id": "yYfRA94o5E7z",
        "colab_type": "code",
        "colab": {
          "base_uri": "https://localhost:8080/",
          "height": 34
        },
        "outputId": "9c40ac2c-2702-4cc7-c3bf-be0a2ffc5dae"
      },
      "source": [
        "accuracy_score(y_test, y_pred)"
      ],
      "execution_count": 238,
      "outputs": [
        {
          "output_type": "execute_result",
          "data": {
            "text/plain": [
              "0.7584097859327217"
            ]
          },
          "metadata": {
            "tags": []
          },
          "execution_count": 238
        }
      ]
    },
    {
      "cell_type": "code",
      "metadata": {
        "id": "9eblv4cUqWIr",
        "colab_type": "code",
        "colab": {}
      },
      "source": [
        "pos = []\n",
        "neg = []\n",
        "error = []\n",
        "ticker2 = []\n",
        "realticker =[]"
      ],
      "execution_count": 300,
      "outputs": []
    },
    {
      "cell_type": "code",
      "metadata": {
        "id": "3c2uuzM6yIWT",
        "colab_type": "code",
        "colab": {
          "base_uri": "https://localhost:8080/",
          "height": 34
        },
        "outputId": "a44e809c-bc1c-49ea-a1cc-9d722d58b32e"
      },
      "source": [
        "data_test.shape[0]"
      ],
      "execution_count": 301,
      "outputs": [
        {
          "output_type": "execute_result",
          "data": {
            "text/plain": [
              "91"
            ]
          },
          "metadata": {
            "tags": []
          },
          "execution_count": 301
        }
      ]
    },
    {
      "cell_type": "code",
      "metadata": {
        "id": "3c4-FIKT7hpk",
        "colab_type": "code",
        "colab": {}
      },
      "source": [
        "for i in range(0,data_test.shape[0]):\n",
        "  try:\n",
        "      if clf.predict([data_test['headline'][i]])==1:\n",
        "        ticker2=[data_test['ticker'][i]]\n",
        "        realticker.append(ticker2)\n",
        "        pos.append('1')\n",
        "      else: \n",
        "        neg.append('0')\n",
        "  except KeyError:\n",
        "    error.append('error')\n",
        " \n",
        "  "
      ],
      "execution_count": 302,
      "outputs": []
    },
    {
      "cell_type": "code",
      "metadata": {
        "id": "wDRLTkYnuIJZ",
        "colab_type": "code",
        "colab": {
          "base_uri": "https://localhost:8080/",
          "height": 34
        },
        "outputId": "0547597e-1fb5-48ee-8608-34e129fda036"
      },
      "source": [
        "len(pos)"
      ],
      "execution_count": 303,
      "outputs": [
        {
          "output_type": "execute_result",
          "data": {
            "text/plain": [
              "23"
            ]
          },
          "metadata": {
            "tags": []
          },
          "execution_count": 303
        }
      ]
    },
    {
      "cell_type": "code",
      "metadata": {
        "id": "Oei6yXj0uV2p",
        "colab_type": "code",
        "colab": {
          "base_uri": "https://localhost:8080/",
          "height": 34
        },
        "outputId": "1cc3802e-d857-4983-cbd4-224a66225bc8"
      },
      "source": [
        "len(neg)"
      ],
      "execution_count": 304,
      "outputs": [
        {
          "output_type": "execute_result",
          "data": {
            "text/plain": [
              "12"
            ]
          },
          "metadata": {
            "tags": []
          },
          "execution_count": 304
        }
      ]
    },
    {
      "cell_type": "code",
      "metadata": {
        "id": "LA4NtkHEx_D7",
        "colab_type": "code",
        "colab": {
          "base_uri": "https://localhost:8080/",
          "height": 34
        },
        "outputId": "96d6b8b5-386e-4c9e-feca-31349eecb7f6"
      },
      "source": [
        "len(error)"
      ],
      "execution_count": 305,
      "outputs": [
        {
          "output_type": "execute_result",
          "data": {
            "text/plain": [
              "56"
            ]
          },
          "metadata": {
            "tags": []
          },
          "execution_count": 305
        }
      ]
    },
    {
      "cell_type": "code",
      "metadata": {
        "id": "_H81YwUy0_AA",
        "colab_type": "code",
        "colab": {
          "base_uri": "https://localhost:8080/",
          "height": 408
        },
        "outputId": "c7dea976-d959-4a15-f246-9be319f22ef3"
      },
      "source": [
        "realticker"
      ],
      "execution_count": 306,
      "outputs": [
        {
          "output_type": "execute_result",
          "data": {
            "text/plain": [
              "[['AMZN'],\n",
              " ['AMZN'],\n",
              " ['AMZN'],\n",
              " ['AMZN'],\n",
              " ['AMZN'],\n",
              " ['AMZN'],\n",
              " ['AMZN'],\n",
              " ['AMZN'],\n",
              " ['AMZN'],\n",
              " ['AMZN'],\n",
              " ['AMZN'],\n",
              " ['AMZN'],\n",
              " ['AMZN'],\n",
              " ['AMZN'],\n",
              " ['AMZN'],\n",
              " ['AMZN'],\n",
              " ['AMZN'],\n",
              " ['AMZN'],\n",
              " ['AMZN'],\n",
              " ['AMZN'],\n",
              " ['AMZN'],\n",
              " ['AMZN'],\n",
              " ['AMZN']]"
            ]
          },
          "metadata": {
            "tags": []
          },
          "execution_count": 306
        }
      ]
    }
  ]
}